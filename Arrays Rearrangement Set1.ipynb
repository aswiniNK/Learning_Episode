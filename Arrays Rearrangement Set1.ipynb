{
 "cells": [
  {
   "cell_type": "markdown",
   "metadata": {},
   "source": [
    "# 1. Array Rearrangement of arr[i] = i"
   ]
  },
  {
   "cell_type": "code",
   "execution_count": 1,
   "metadata": {},
   "outputs": [
    {
     "name": "stdout",
     "output_type": "stream",
     "text": [
      "-1 1 2 3 4 -1 6 -1 -1 9 "
     ]
    }
   ],
   "source": [
    "#Function to perform rearrange\n",
    "def fix(A):\n",
    "    \n",
    "    n = len(A)\n",
    "    \n",
    "    for i in range(0,n):\n",
    "        \n",
    "        if(A[i] != -1 and A[i] != i):\n",
    "            x = A[i]\n",
    "            \n",
    "            #Checking if desired place is not vacate\n",
    "            \n",
    "            while(A[x] != -1 and A[x] != x):\n",
    "                \n",
    "                #Restoring the value from desired place\n",
    "                \n",
    "                y = A[x]\n",
    "                \n",
    "                #Placing the x to its correct position\n",
    "                \n",
    "                A[x] = x\n",
    "                \n",
    "                #Now y will become x, now search the place for x\n",
    "                \n",
    "                x = y\n",
    "            #placing x to its correct position\n",
    "            \n",
    "            A[x] = x\n",
    "            \n",
    "            #Checking for wheather the while loop hasn't set the correct value at A[i]\n",
    "            \n",
    "            if(A[i] != i):\n",
    "                \n",
    "                #if not then put -1 at the vacated place\n",
    "                A[i] = -1\n",
    "                \n",
    "        \n",
    "\n",
    "#Driver code\n",
    "A = [-1,-1,6,1,9,3,2,-1,4,-1]\n",
    "fix(A)\n",
    "\n",
    "for i in range(0, len(A)):\n",
    "    print(A[i] , end=\" \")"
   ]
  },
  {
   "cell_type": "markdown",
   "metadata": {},
   "source": [
    "# 2. Using Set data type"
   ]
  },
  {
   "cell_type": "code",
   "execution_count": 2,
   "metadata": {},
   "outputs": [
    {
     "name": "stdout",
     "output_type": "stream",
     "text": [
      "[-1, 1, 2, 3, 4, -1, 6, -1, -1, 9]\n"
     ]
    }
   ],
   "source": [
    "\n",
    "def fix(A):\n",
    "    s = set()\n",
    "    \n",
    "    #Storing all the elements from list to set\n",
    "    for i in range (0, len(A)):\n",
    "        s.add(A[i])\n",
    "    \n",
    "    for i in range(len(A)):\n",
    "        #Check for item if present in set\n",
    "        \n",
    "        if i in s:\n",
    "            A[i] = i\n",
    "        else:\n",
    "            A[i] = -1\n",
    "    return A\n",
    "\n",
    "#Driver Code\n",
    "\n",
    "if __name__ == \"__main__\":\n",
    "    A= [-1,-1, 6,1,9, 3,2,-1,4,-1]\n",
    "    print(fix(A))\n",
    "    "
   ]
  },
  {
   "cell_type": "markdown",
   "metadata": {},
   "source": [
    "# 3. array rearrangement using Swap "
   ]
  },
  {
   "cell_type": "code",
   "execution_count": 3,
   "metadata": {},
   "outputs": [
    {
     "name": "stdout",
     "output_type": "stream",
     "text": [
      "[-1, 1, 2, 3, 4, -1, 6, -1, -1, 9]\n"
     ]
    }
   ],
   "source": [
    "def fix(A):\n",
    "    \n",
    "    for i in range(0, len(A)):\n",
    "        \n",
    "        if A[i] >=0 and A[i] != i:\n",
    "            \n",
    "            A[A[i]], A[i] = A[i] , A[A[i]]\n",
    "        else :\n",
    "            i+=1\n",
    "    return A\n",
    "#driver code\n",
    "if __name__ == \"__main__\":\n",
    "    A = [-1, -1, 6, 1, 9, 3, 2, -1, 4, -1]\n",
    "    fix(A)\n",
    "    \n",
    "    print(A)"
   ]
  },
  {
   "cell_type": "markdown",
   "metadata": {},
   "source": [
    "# 4. Array reverse "
   ]
  },
  {
   "cell_type": "code",
   "execution_count": 4,
   "metadata": {},
   "outputs": [
    {
     "name": "stdout",
     "output_type": "stream",
     "text": [
      "[6, 5, 4, 3, 2, 1]\n"
     ]
    }
   ],
   "source": [
    "def reverseArray(arr, start, end):\n",
    "    while(start < end):\n",
    "        arr[start] , arr[end] = arr[end] , arr[start]\n",
    "        start +=1\n",
    "        end -=1\n",
    "\n",
    "\n",
    "#Driver code\n",
    "a = [1,2,3,4,5,6]\n",
    "reverseArray(a, 0, 5)\n",
    "\n",
    "print(a)\n"
   ]
  },
  {
   "cell_type": "markdown",
   "metadata": {},
   "source": [
    "# 5. Array reverse through recursive"
   ]
  },
  {
   "cell_type": "code",
   "execution_count": 5,
   "metadata": {},
   "outputs": [
    {
     "name": "stdout",
     "output_type": "stream",
     "text": [
      "[6, 5, 4, 3, 2, 1]\n"
     ]
    }
   ],
   "source": [
    "def reverseArray(arr, start, end):\n",
    "    \n",
    "    if start >= end :\n",
    "        return\n",
    "    arr[start] , arr[end] = arr[end] , arr[start]\n",
    "    reverseArray(a, start+1, end-1)\n",
    "\n",
    "#Driver code\n",
    "a = [1,2,3,4,5,6]\n",
    "reverseArray(a, 0,5)\n",
    "\n",
    "print(a)"
   ]
  },
  {
   "cell_type": "markdown",
   "metadata": {},
   "source": [
    "# 6. Array Rearrange"
   ]
  },
  {
   "cell_type": "code",
   "execution_count": 6,
   "metadata": {},
   "outputs": [
    {
     "name": "stdout",
     "output_type": "stream",
     "text": [
      "array('i', [1, 4, 3, 5, 5, 6, 7])\n"
     ]
    }
   ],
   "source": [
    "import array as a\n",
    "import numpy as np\n",
    "\n",
    "# Function code\n",
    "\n",
    "def rearrangeArray(arr, n):\n",
    "    \n",
    "    #Total no of even positions\n",
    "    evenPos = int(n/2)\n",
    "    \n",
    "    #Total no of odd positions\n",
    "    oddPos = n - evenPos\n",
    "    \n",
    "    #Initializing empty array in python\n",
    "    tempArr = np.empty(n, dtype = object)\n",
    "    \n",
    "    #Copying original array into auxilliary array\n",
    "    for i in range(0, n):\n",
    "        tempArr[i] = arr[i]\n",
    "        \n",
    "    #Sorting the auxilliary array\n",
    "    tempArr.sort()\n",
    "    \n",
    "    j = oddPos -1\n",
    "    \n",
    "    #Filling up odd positions in the array\n",
    "    for i in range(1, n, 2):\n",
    "        arr[i] = tempArr[j]\n",
    "        j = j+1\n",
    "    \n",
    "    #to display array\n",
    "    \n",
    "    print(arr)\n",
    "        \n",
    "    \n",
    "    \n",
    "    \n",
    "\n",
    "\n",
    "#Driver code\n",
    "\n",
    "arr = a.array(\"i\" , [1,2,3,4,5,6,7])\n",
    "rearrangeArray(arr, 7)"
   ]
  },
  {
   "cell_type": "markdown",
   "metadata": {},
   "source": [
    "# 7. Arranging array by placing neg abd postive number alternatively..\n"
   ]
  },
  {
   "cell_type": "code",
   "execution_count": 7,
   "metadata": {},
   "outputs": [
    {
     "name": "stdout",
     "output_type": "stream",
     "text": [
      "[4, -3, 5, -1, 6, -7, 2, 8, 9]\n"
     ]
    }
   ],
   "source": [
    "#function to rearrange\n",
    "\n",
    "def rearrange(arr, n):\n",
    "    \n",
    "    i = -1\n",
    "    for j in range(0, n):\n",
    "        if(arr[j] < 0):\n",
    "            i+=1\n",
    "            arr[i] , arr[j] = arr[j] , arr[i]\n",
    "    \n",
    "    pos = i+1\n",
    "    neg = 0\n",
    "    \n",
    "    while(pos < n and neg < pos and arr[neg] < 0):\n",
    "        arr[neg] , arr[pos] = arr[pos] , arr[neg]\n",
    "        pos += 1\n",
    "        neg += 2\n",
    "\n",
    "# driver code\n",
    "a = [-1, 2,-3,4,5,6,-7,8,9]\n",
    "rearrange(a, len(a))\n",
    "\n",
    "print(a)"
   ]
  },
  {
   "cell_type": "markdown",
   "metadata": {},
   "source": [
    "# 8. Pushing zeros to end"
   ]
  },
  {
   "cell_type": "code",
   "execution_count": 8,
   "metadata": {},
   "outputs": [
    {
     "name": "stdout",
     "output_type": "stream",
     "text": [
      "[1, 9, 8, 4, 2, 7, 6, 9, 0, 0, 0, 0]\n"
     ]
    }
   ],
   "source": [
    "#Function to push all zeros to end\n",
    "\n",
    "def pushingZerosToEnd(arr, n):\n",
    "    \n",
    "    count = 0\n",
    "    for i in range(0, n):\n",
    "        if arr[i] != 0:\n",
    "            arr[count] = arr[i]\n",
    "            count += 1\n",
    "    \n",
    "    while(count<n):\n",
    "        arr[count] = 0\n",
    "        count += 1\n",
    "    \n",
    "\n",
    "\n",
    "#Driver code\n",
    "a =  [1, 9, 8, 4, 0, 0, 2, 7, 0, 6, 0, 9] \n",
    "n = len(a)\n",
    "\n",
    "pushingZerosToEnd(a, n)\n",
    "\n",
    "print(a)"
   ]
  },
  {
   "cell_type": "markdown",
   "metadata": {},
   "source": [
    "# 9. Pushing zeros to end with one traversal"
   ]
  },
  {
   "cell_type": "code",
   "execution_count": 9,
   "metadata": {},
   "outputs": [
    {
     "name": "stdout",
     "output_type": "stream",
     "text": [
      "[1, 9, 8, 4, 2, 7, 6, 9, 0, 0, 0, 0, 0]\n"
     ]
    }
   ],
   "source": [
    "#Function code\n",
    "def pushZerosToEnd(arr, n):\n",
    "    \n",
    "    count = 0\n",
    "    \n",
    "    for i in range (0, n):\n",
    "        if(arr[i] != 0):\n",
    "            arr[count] , arr[i] = arr[i] , arr[count]\n",
    "            count += 1\n",
    "\n",
    "#driver code\n",
    "a = [0, 1, 9, 8, 4, 0, 0, 2,7, 0, 6, 0, 9]\n",
    "pushZerosToEnd(a, len(a))\n",
    "\n",
    "print(a)"
   ]
  },
  {
   "cell_type": "markdown",
   "metadata": {},
   "source": [
    "# 10. With swap function to get all elements less than or equal to k"
   ]
  },
  {
   "cell_type": "code",
   "execution_count": 10,
   "metadata": {},
   "outputs": [
    {
     "name": "stdout",
     "output_type": "stream",
     "text": [
      "1\n",
      "2\n"
     ]
    }
   ],
   "source": [
    "#FUnction code\n",
    "\n",
    "def minSwap(arr, n , k):\n",
    "    count = 0\n",
    "    for i in range(0, n):\n",
    "        if arr[i] <= k :\n",
    "            count = count + 1\n",
    "            \n",
    "    bad = 0\n",
    "    for i in range(0, count):\n",
    "        if arr[i] > k :\n",
    "            bad += 1\n",
    "    \n",
    "    ans = bad\n",
    "    j = count\n",
    "    for i in range(0, n):\n",
    "        \n",
    "        if(j==n):\n",
    "            break\n",
    "            \n",
    "        if(arr[i] > k) :\n",
    "            bad = bad -1\n",
    "            \n",
    "        if(arr[j] > k):\n",
    "            bad = bad + 1\n",
    "        \n",
    "        ans = min(ans, bad)\n",
    "        \n",
    "        j = j+1\n",
    "    return ans\n",
    "\n",
    "#driver code\n",
    "arr = [2, 1, 5, 6, 3]\n",
    "n = len(arr)\n",
    "k = 3\n",
    "\n",
    "print(minSwap(arr, n, k))\n",
    "\n",
    "arr = [2, 7, 9, 5, 8, 7, 4]\n",
    "n = len(arr)\n",
    "k = 5\n",
    "\n",
    "print(minSwap(arr, n, k))\n"
   ]
  },
  {
   "cell_type": "markdown",
   "metadata": {},
   "source": [
    "# 11. maximum sum of subarray\n",
    "\n"
   ]
  },
  {
   "cell_type": "code",
   "execution_count": 11,
   "metadata": {},
   "outputs": [
    {
     "name": "stdout",
     "output_type": "stream",
     "text": [
      "24\n"
     ]
    }
   ],
   "source": [
    "\n",
    "import sys\n",
    "INT_MIN = -sys.maxsize -1\n",
    "#function code\n",
    "\n",
    "\n",
    "def MaxSum(arr, n , k):\n",
    "    maxSum = INT_MIN\n",
    "    \n",
    "    #Considering all blocks staring with i\n",
    "    for i in range(0, (n-k+1)):\n",
    "        curSum = 0\n",
    "        for j in range(0, k):\n",
    "            curSum = curSum + arr[i+j]\n",
    "            \n",
    "        maxSum = max(curSum , maxSum)\n",
    "    \n",
    "    return maxSum\n",
    "        \n",
    "\n",
    "#Driver code\n",
    "\n",
    "a = [1,4,2,10, 2,3,1,0, 20]\n",
    "n = len(a)\n",
    "k = 4\n",
    "\n",
    "print(MaxSum(a, n ,k))"
   ]
  },
  {
   "cell_type": "markdown",
   "metadata": {},
   "source": [
    "# 12. Maximum sum of subarray"
   ]
  },
  {
   "cell_type": "code",
   "execution_count": 12,
   "metadata": {},
   "outputs": [
    {
     "name": "stdout",
     "output_type": "stream",
     "text": [
      "24\n"
     ]
    }
   ],
   "source": [
    "import sys\n",
    "INT_MIN = -sys.maxsize -1\n",
    "\n",
    "#Function code\n",
    "\n",
    "def maxSum(arr, n, k):\n",
    "    \n",
    "    #n need to be greater than k\n",
    "    if(n < k):\n",
    "        print(\"Invalid\")\n",
    "        return -1\n",
    "    \n",
    "    #Computing Sum of first values of size k\n",
    "    maxSum = INT_MIN\n",
    "    winSum = sum([arr[i] for i in range(k)])\n",
    "    \n",
    "    \n",
    "    #Computing sums of remaining windows\n",
    "    \n",
    "    for i in range(n-k):\n",
    "        winSum  = winSum - arr[i] + arr[i-k]\n",
    "        maxSum = max(winSum , maxSum)\n",
    "    \n",
    "    return maxSum\n",
    "    \n",
    "    \n",
    "    \n",
    "    \n",
    "    \n",
    "\n",
    "#Driver code\n",
    "a = [1,4,2, 10, 2,3,1,0,20]\n",
    "n = len(a)\n",
    "k = 4\n",
    "print(maxSum(a, n, k))"
   ]
  },
  {
   "cell_type": "markdown",
   "metadata": {},
   "source": [
    "# 13. Array with even positioned are greater than odd"
   ]
  },
  {
   "cell_type": "code",
   "execution_count": 13,
   "metadata": {},
   "outputs": [
    {
     "name": "stdout",
     "output_type": "stream",
     "text": [
      "[1, 5, 2, 3, 2] "
     ]
    }
   ],
   "source": [
    "#Function code\n",
    "\n",
    "def assign(A, n):\n",
    "    \n",
    "    A.sort()\n",
    "    \n",
    "    ans = [0] * n\n",
    "    p = 0\n",
    "    q = n-1\n",
    "    \n",
    "    for i in range(n):\n",
    "        \n",
    "        #Assigning even indexes with maximum elements\n",
    "        \n",
    "        if(i+1) % 2 == 0:\n",
    "            ans[i] = A[q]\n",
    "            q = q-1\n",
    "        else:\n",
    "            ans[i] = A[p]\n",
    "            p = p+1\n",
    "            \n",
    "    print(ans , end =\" \")\n",
    "\n",
    "\n",
    "#driver code\n",
    "A = [1,3,2,2,5]\n",
    "assign(A, len(A))"
   ]
  },
  {
   "cell_type": "markdown",
   "metadata": {},
   "source": [
    "# 14. Arrays rearrange by smallest largest 2nd smallest 2nd largest"
   ]
  },
  {
   "cell_type": "code",
   "execution_count": 14,
   "metadata": {},
   "outputs": [
    {
     "name": "stdout",
     "output_type": "stream",
     "text": [
      "[1, 9, 2, 8, 3, 7, 4, 6, 5, 5]\n"
     ]
    }
   ],
   "source": [
    "\n",
    "def arrange(arr, n):\n",
    "    \n",
    "    #Sorting the array elements\n",
    "    arr.sort()\n",
    "    \n",
    "    #To store modified array\n",
    "    tempArr = [0] * (n+1)\n",
    "    \n",
    "    #Adding numbers from sorted array to new array accordingly\n",
    "    ArrIndex = 0\n",
    "    \n",
    "    #Traverse from begin and end simultaneously\n",
    "    i = 0\n",
    "    j = n-1\n",
    "    \n",
    "    while( i <= n // 2 or j> n // 2):\n",
    "        \n",
    "        tempArr[ArrIndex] = arr[i]\n",
    "        ArrIndex = ArrIndex+1\n",
    "        \n",
    "        tempArr[ArrIndex] = arr[j]\n",
    "        ArrIndex = ArrIndex + 1\n",
    "        \n",
    "        i = i+1\n",
    "        j = j-1\n",
    "        \n",
    "        \n",
    "    print(tempArr)\n",
    "    \n",
    "    \n",
    "\n",
    "\n",
    "#driver code\n",
    "a = [1,2,3,4,5,6,7,8,9]\n",
    "arrange(a, len(a))"
   ]
  },
  {
   "cell_type": "markdown",
   "metadata": {},
   "source": [
    "# 15. Double the first element and move zero to end"
   ]
  },
  {
   "cell_type": "code",
   "execution_count": 5,
   "metadata": {},
   "outputs": [
    {
     "name": "stdout",
     "output_type": "stream",
     "text": [
      "Original Array  [0, 2, 2, 2, 0, 6, 6, 0, 0, 8]\n",
      "Modified Array  [4, 0, 0, 0, 0, 0, 0, 0, 0, 0]\n"
     ]
    }
   ],
   "source": [
    "\n",
    "def pushAllZeros(arr, n):\n",
    "    \n",
    "    #Counting of non-zero elements \n",
    "    count = 0\n",
    "    \n",
    "    #Traverse the array. If element is encountered is non-zero,\n",
    "    #then replace the element at index \"count\" with this element\n",
    "    \n",
    "    for i in range(0, n):\n",
    "        if(arr[i] != 0):\n",
    "            \n",
    "            #Here count is incremented \n",
    "            arr[count] = arr[i]\n",
    "            count += 1\n",
    "            \n",
    "            #Now all non zero element is shifted to front and \"count\" \n",
    "            # is set as index of first 0. Make all elements \n",
    "            # 0 from count to end\n",
    "            \n",
    "            while(count<n):\n",
    "                arr[count] = 0\n",
    "                count+= 1\n",
    "            \n",
    "\n",
    "\n",
    "#Function to modify an array\n",
    "\n",
    "def modifyArray(arr, n):\n",
    "    #if arr contains a single element only then return \n",
    "    if(n == 1):\n",
    "        return\n",
    "    \n",
    "    #Traversing the array\n",
    "    for i in range(0,n-1):\n",
    "        \n",
    "        #if The if statement is true perform the operation\n",
    "        if(arr[i] != 0) and (arr[i] == arr[i+1]):\n",
    "            \n",
    "            #Doubling the element at current index\n",
    "            arr[i] = 2*arr[i]\n",
    "            \n",
    "            #Putting the zero to the next index\n",
    "            arr[i+1] = 0\n",
    "            \n",
    "            #Increment by 1 so as to move two indexes ahead during loop iteration \n",
    "            i+=1\n",
    "            \n",
    "    pushAllZeros(arr, n)\n",
    "\n",
    "\n",
    "\n",
    "#Driver program \n",
    "\n",
    "arr = [0, 2,2,2, 0,6,6,0,0,8]\n",
    "n = len(arr)\n",
    "\n",
    "print(\"Original Array \", end = \" \")\n",
    "print(arr)\n",
    "\n",
    "modifyArray(arr, n)\n",
    "\n",
    "print(\"Modified Array \", end = \" \")\n",
    "print(arr)\n",
    "\n"
   ]
  },
  {
   "cell_type": "markdown",
   "metadata": {},
   "source": [
    "# Array Reorder based on indexes "
   ]
  },
  {
   "cell_type": "code",
   "execution_count": 14,
   "metadata": {},
   "outputs": [
    {
     "name": "stdout",
     "output_type": "stream",
     "text": [
      "Reordered Array\n",
      "[40, 60, 90, 50, 70]\n",
      "Modified index\n",
      "[0, 1, 2, 3, 4]\n"
     ]
    }
   ],
   "source": [
    "# Function code to reorde\n",
    "\n",
    "def reorder(arr, index, n):\n",
    "    \n",
    "    temp = [0] * n;\n",
    "    \n",
    "    #arr[i] should be present at index[i] index\n",
    "    \n",
    "    for i in range(0, n):\n",
    "        temp[index[i]] = arr[i]\n",
    "     \n",
    "    \n",
    "   \n",
    "    #copy temp[] to arr[]\n",
    "    for i in range(0,n):\n",
    "        arr[i] = temp[i]\n",
    "        index[i] = i\n",
    "\n",
    "\n",
    "#Driver Program\n",
    "arr =[50,40,70,60,90]\n",
    "index = [3,0,4,1,2]\n",
    "n = len(arr)\n",
    "\n",
    "reorder(arr, index, n)\n",
    "print(\"Reordered Array\")\n",
    "print(arr)\n",
    "\n",
    "print(\"Modified index\")\n",
    "print(index)\n",
    "\n"
   ]
  },
  {
   "cell_type": "markdown",
   "metadata": {},
   "source": [
    "# Program to sort arrays based on given index"
   ]
  },
  {
   "cell_type": "code",
   "execution_count": 15,
   "metadata": {},
   "outputs": [
    {
     "name": "stdout",
     "output_type": "stream",
     "text": [
      "Reordered Array\n",
      "[40, 60, 90, 50, 70]\n",
      "Reordered Index\n",
      "[0, 1, 2, 3, 4]\n"
     ]
    }
   ],
   "source": [
    "# Function code\n",
    "def reorder(arr, index, n):\n",
    "    \n",
    "    #Fixing all elmenets one by one\n",
    "    \n",
    "    for i in range(0, n):\n",
    "        \n",
    "        #While index[i] and arr[i] are not fixed\n",
    "        \n",
    "        while(index[i] != i):\n",
    "            \n",
    "            #Store Values of the target (or correct)\n",
    "            # position before placing arr[i] there\n",
    "            \n",
    "            oldTargetI = index[index[i]]\n",
    "            oldTargetE = arr[index[i]]\n",
    "            \n",
    "            #Placing arr[i] at its target (or correct)\n",
    "            #positipn. Also copy corrected index for new position\n",
    "            \n",
    "            arr[index[i]] = arr[i]\n",
    "            index[index[i]] = index[i]\n",
    "            \n",
    "            #Copy old target values to arr[i] and index[i]\n",
    "            index[i] = oldTargetI\n",
    "            arr[i] = oldTargetE\n",
    "            \n",
    "\n",
    "\n",
    "# Driver Code\n",
    "arr = [50,40,70,60,90]\n",
    "index = [3,0,4,1,2]\n",
    "\n",
    "reorder(arr, index , len(arr))\n",
    "\n",
    "print(\"Reordered Array\")\n",
    "print(arr)\n",
    "\n",
    "print(\"Reordered Index\")\n",
    "print(index)\n"
   ]
  },
  {
   "cell_type": "markdown",
   "metadata": {},
   "source": [
    "# Rearanging positive and negative numbers "
   ]
  },
  {
   "cell_type": "code",
   "execution_count": 24,
   "metadata": {},
   "outputs": [
    {
     "name": "stdout",
     "output_type": "stream",
     "text": [
      "[-12, -13, -5, -7, -3, -6, 11, 6, 5]\n"
     ]
    }
   ],
   "source": [
    "# Function code\n",
    "def RearangePos(arr, n):\n",
    "    \n",
    "    for i in range(1, n):\n",
    "        key = arr[i]\n",
    "        \n",
    "        #If current element is positive do nothing\n",
    "        if(key > 0):\n",
    "            continue\n",
    "        \n",
    "        \"\"\" If Current elmenet is Negative \n",
    "        shift positive elements of arr[0...i-1],\n",
    "        to one position to thier right\n",
    "    \n",
    "        \"\"\"\n",
    "        j = i - 1\n",
    "        \n",
    "        while(j >= 0 and arr[j] > 0):\n",
    "            arr[j+1] = arr[j]\n",
    "            j = j-1\n",
    "        \n",
    "        # put negative elements at its right position\n",
    "    \n",
    "        arr[j+1] = key\n",
    "        \n",
    "   \n",
    "# Driver code\n",
    "\n",
    "arr  = [-12, 11, -13, -5, 6, -7, 5, -3, -6]\n",
    "\n",
    "RearangePos(arr, len(arr))\n",
    "\n",
    "print(arr)"
   ]
  },
  {
   "cell_type": "markdown",
   "metadata": {},
   "source": [
    "# Rearrange negative and Positive numbers by merge sort"
   ]
  },
  {
   "cell_type": "code",
   "execution_count": 26,
   "metadata": {},
   "outputs": [
    {
     "name": "stdout",
     "output_type": "stream",
     "text": [
      "[-12, -13, -5, -7, -3, -6, 11, 6, 5]\n"
     ]
    }
   ],
   "source": [
    "#Function code\n",
    "def RearrangePos(arr, l, r):\n",
    "    \n",
    "    if(l<r):\n",
    "        m = l+(r-l)//2\n",
    "        \n",
    "        #Sort First and Second Halves\n",
    "        RearrangePos(arr, l, m)\n",
    "        RearrangePos(arr, m+1 , r)\n",
    "        merge(arr, l, m, r)\n",
    "    \n",
    "#Function for merge\n",
    "def merge(arr, l, m , r):\n",
    "    i, j, k = 0, 0, 0\n",
    "    n1 = m-l +1\n",
    "    n2 = r-m\n",
    "    \n",
    "    #Creating temp arrays \n",
    "    L = [arr[l+i] for i in range(n1)]\n",
    "    R = [arr[m+1+j] for j in range(n2)] \n",
    "    \n",
    "    #Merging the Temperory arrays back into arr[l...r]\n",
    "    i = 0 # Initializing index of First Subarray\n",
    "    j = 0 # Initializing index of Second Subarray\n",
    "    k = l # Initializing index of merged Subarray\n",
    "    \n",
    "    #Note the order of appear of elements that should be maintained \n",
    "    # We copy elements of left subarray first followed by that of right subarray\n",
    "    \n",
    "    #Copying negative elements of left subarray\n",
    "    while(i<n1 and L[i] < 0):\n",
    "        arr[k] = L[i]\n",
    "        k += 1\n",
    "        i += 1\n",
    "        \n",
    "    #Copying negative elements of right subarray\n",
    "    while(j<n2 and R[j] < 0):\n",
    "        arr[k] = R[j]\n",
    "        k+=1\n",
    "        j+=1\n",
    "        \n",
    "    #Copying positive elements of left subarray\n",
    "    while(i<n1):\n",
    "        arr[k] = L[i]\n",
    "        k+=1\n",
    "        i+=1\n",
    "    #Copying positive elements of left subarray\n",
    "    while(j < n2):\n",
    "        arr[k] = R[j]\n",
    "        k+=1\n",
    "        j+=1\n",
    "        \n",
    "    \n",
    "    \n",
    "\n",
    "#Driver Code\n",
    "arr = [-12, 11, -13, -5, 6,-7, 5, -3, -6]\n",
    "n = len(arr)\n",
    "\n",
    "RearrangePos(arr, 0, n-1)\n",
    "\n",
    "print(arr)"
   ]
  },
  {
   "cell_type": "markdown",
   "metadata": {},
   "source": [
    "# 20. Selection Sort"
   ]
  },
  {
   "cell_type": "code",
   "execution_count": 1,
   "metadata": {},
   "outputs": [
    {
     "name": "stdout",
     "output_type": "stream",
     "text": [
      "[11, 12, 22, 25, 64]\n"
     ]
    }
   ],
   "source": [
    "import sys\n",
    "A = [64, 25, 12, 22, 11]\n",
    "\n",
    "# Traverse through all elemenets \n",
    "for i in range(len(A)):\n",
    "    \n",
    "    # Find the minimum element in the remaining unsorted array\n",
    "    min_idx = i\n",
    "    for j in range(i+1, len(A)):\n",
    "        if(A[min_idx] > A[j]):\n",
    "            min_idx = j\n",
    "            \n",
    "    # Swap the found minimum element with the first elmenet \n",
    "    A[i], A[min_idx] = A[min_idx], A[i]\n",
    "    \n",
    "\n",
    "    \n",
    "print(A)\n",
    "    "
   ]
  },
  {
   "cell_type": "markdown",
   "metadata": {},
   "source": [
    "# 21. Bubble Sort"
   ]
  },
  {
   "cell_type": "code",
   "execution_count": 2,
   "metadata": {},
   "outputs": [
    {
     "name": "stdout",
     "output_type": "stream",
     "text": [
      "[11, 12, 22, 25, 64]\n"
     ]
    }
   ],
   "source": [
    "def bubbleSort(arr):\n",
    "    n = len(arr)\n",
    "    \n",
    "    #Traverse through all array elements\n",
    "    \n",
    "    for i in range(n):\n",
    "        \n",
    "        # Last i elements are already in place\n",
    "        for j in range(0, n-i-1):\n",
    "            \n",
    "            #Traverse the array from 0 to n-i-1\n",
    "            # Swap if the element found is greater\n",
    "            # than the next element\n",
    "            \n",
    "            if arr[j] > arr[j+1]:\n",
    "                arr[j], arr[j+1] = arr[j+1] , arr[j]\n",
    "                \n",
    "                \n",
    "    \n",
    "    \n",
    "\n",
    "# Driver code\n",
    "arr = [64, 34, 25, 12, 22, 11, 90]\n",
    "bubbleSort(arr)\n",
    "\n",
    "print(A)"
   ]
  },
  {
   "cell_type": "markdown",
   "metadata": {},
   "source": [
    "# BubbleSort "
   ]
  },
  {
   "cell_type": "code",
   "execution_count": 4,
   "metadata": {},
   "outputs": [
    {
     "name": "stdout",
     "output_type": "stream",
     "text": [
      "[11, 12, 22, 25, 34, 64, 90]\n"
     ]
    }
   ],
   "source": [
    "def bubbleSort(arr):\n",
    "    n = len(arr)\n",
    "    \n",
    "    # Traverse through all the elements \n",
    "    for i in range(n):\n",
    "        swapped = False\n",
    "        \n",
    "        # Last i elements are already in place\n",
    "        \n",
    "        for j in range(0, n-i-1):\n",
    "            \n",
    "            #Traverse the array from 0 to n-i-1.\n",
    "            # Swap if the element found is greater than the next element\n",
    "            \n",
    "            if arr[j] > arr[j+1]:\n",
    "                arr[j] , arr[j+1] = arr[j+1], arr[j]\n",
    "                \n",
    "                swapped = True\n",
    "                \n",
    "        # if No two elements were swapped by inner loop, then break\n",
    "        \n",
    "        if swapped == False:\n",
    "            break\n",
    "        \n",
    "            \n",
    "\n",
    "\n",
    "#Driver program\n",
    "arr = [64,34,25,12,22,11,90]\n",
    "bubbleSort(arr)\n",
    "print(arr)"
   ]
  },
  {
   "cell_type": "markdown",
   "metadata": {},
   "source": [
    "# 23. Insertion Sort"
   ]
  },
  {
   "cell_type": "code",
   "execution_count": 5,
   "metadata": {},
   "outputs": [
    {
     "name": "stdout",
     "output_type": "stream",
     "text": [
      "[5, 6, 11, 12, 13]\n"
     ]
    }
   ],
   "source": [
    "def insertionSort(arr):\n",
    "    #Traversing from 1 to len of array\n",
    "    \n",
    "    for i in range(1, (len(arr))):\n",
    "        \n",
    "        key = arr[i]\n",
    "        \n",
    "        # Move elements of arr[0.. i-1] that are greater than key,\n",
    "        # to one position ahead of thier current position\n",
    "        \n",
    "        j = i-1\n",
    "        while j >= 0 and key < arr[j]:\n",
    "            arr[j+1] = arr[j]\n",
    "            j -= 1\n",
    "            \n",
    "        arr[j+1] = key\n",
    "                                   \n",
    "                   \n",
    "                   \n",
    "    \n",
    "\n",
    "# Driver Code\n",
    "\n",
    "arr = [12, 11, 13, 5,6]\n",
    "insertionSort(arr)\n",
    "\n",
    "print(arr)"
   ]
  },
  {
   "cell_type": "code",
   "execution_count": null,
   "metadata": {},
   "outputs": [],
   "source": []
  }
 ],
 "metadata": {
  "kernelspec": {
   "display_name": "Python 3",
   "language": "python",
   "name": "python3"
  },
  "language_info": {
   "codemirror_mode": {
    "name": "ipython",
    "version": 3
   },
   "file_extension": ".py",
   "mimetype": "text/x-python",
   "name": "python",
   "nbconvert_exporter": "python",
   "pygments_lexer": "ipython3",
   "version": "3.6.5"
  }
 },
 "nbformat": 4,
 "nbformat_minor": 2
}
