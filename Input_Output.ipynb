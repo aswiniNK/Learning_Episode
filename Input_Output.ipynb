{
 "cells": [
  {
   "cell_type": "code",
   "execution_count": 4,
   "metadata": {},
   "outputs": [
    {
     "name": "stdout",
     "output_type": "stream",
     "text": [
      "Enter Values 555555 999999\n",
      "555555   999999\n"
     ]
    }
   ],
   "source": [
    "\"\"\" Taking two inputs into a list by list comprehension \"\"\"\n",
    "x, y = [int(x) for x in input(\"Enter Values \").split()]\n",
    "print(x, \" \" , y)"
   ]
  },
  {
   "cell_type": "code",
   "execution_count": 7,
   "metadata": {},
   "outputs": [
    {
     "name": "stdout",
     "output_type": "stream",
     "text": [
      "Enter values 555 777 999\n",
      "555 777 999\n"
     ]
    }
   ],
   "source": [
    "x, y , z = [int(x) for x in input(\"Enter values \").split()]\n",
    "print(x, y, z)"
   ]
  },
  {
   "cell_type": "code",
   "execution_count": 10,
   "metadata": {},
   "outputs": [
    {
     "name": "stdout",
     "output_type": "stream",
     "text": [
      "Enter values111 222 333 444 555 666 777 888 999\n",
      "[111, 222, 333, 444, 555, 666, 777, 888, 999]\n"
     ]
    }
   ],
   "source": [
    "x = [int(x) for x in input(\"Enter values\").split()]\n",
    "print(x)"
   ]
  },
  {
   "cell_type": "code",
   "execution_count": 11,
   "metadata": {},
   "outputs": [
    {
     "name": "stdout",
     "output_type": "stream",
     "text": [
      "GeeksforGeeks\n",
      "x =  5\n"
     ]
    }
   ],
   "source": [
    "print(\"GeeksforGeeks\")\n",
    "\n",
    "x = 5; print(\"x = \", x)"
   ]
  },
  {
   "cell_type": "code",
   "execution_count": 17,
   "metadata": {},
   "outputs": [
    {
     "name": "stdout",
     "output_type": "stream",
     "text": [
      "GGG % F %  G\n"
     ]
    }
   ],
   "source": [
    "print(\"GGG\",\"F\",\" G\", sep = ' % ')"
   ]
  },
  {
   "cell_type": "code",
   "execution_count": 24,
   "metadata": {},
   "outputs": [
    {
     "ename": "SyntaxError",
     "evalue": "keyword argument repeated (<ipython-input-24-d9b03fe8e03c>, line 1)",
     "output_type": "error",
     "traceback": [
      "\u001b[1;36m  File \u001b[1;32m\"<ipython-input-24-d9b03fe8e03c>\"\u001b[1;36m, line \u001b[1;32m1\u001b[0m\n\u001b[1;33m    print(\"Geeks\",\"for\", \"geeks\", sep='' , end=' ' , end='@')\u001b[0m\n\u001b[1;37m                                                    ^\u001b[0m\n\u001b[1;31mSyntaxError\u001b[0m\u001b[1;31m:\u001b[0m keyword argument repeated\n"
     ]
    }
   ],
   "source": [
    "print(\"Geeks\",\"for\", \"geeks\", sep='' ,  end='@')\n",
    "print(\"Aswini\")"
   ]
  },
  {
   "cell_type": "code",
   "execution_count": 31,
   "metadata": {},
   "outputs": [
    {
     "name": "stdout",
     "output_type": "stream",
     "text": [
      "geeksforgeeks\n"
     ]
    }
   ],
   "source": [
    "print(\"geeks\" , end= \"\")\n",
    "print(\"forgeeks\")"
   ]
  },
  {
   "cell_type": "code",
   "execution_count": 35,
   "metadata": {},
   "outputs": [
    {
     "name": "stdout",
     "output_type": "stream",
     "text": [
      "555 777 999 "
     ]
    }
   ],
   "source": [
    "a =[555, 777, 999]\n",
    "for i in range(3):\n",
    "    print(a[i], end=\" \")"
   ]
  },
  {
   "cell_type": "code",
   "execution_count": 36,
   "metadata": {},
   "outputs": [],
   "source": [
    "import antigravity"
   ]
  },
  {
   "cell_type": "code",
   "execution_count": 37,
   "metadata": {},
   "outputs": [
    {
     "name": "stdout",
     "output_type": "stream",
     "text": [
      "Aswini_Swethu_Neelam\n"
     ]
    }
   ],
   "source": [
    "print(\"Aswini\", \"Swethu\", sep=\"_\", end=\"_\")\n",
    "print(\"Neelam\")"
   ]
  },
  {
   "cell_type": "code",
   "execution_count": 39,
   "metadata": {},
   "outputs": [
    {
     "name": "stdout",
     "output_type": "stream",
     "text": [
      "29-03-2019"
     ]
    }
   ],
   "source": [
    "print(\"29\", \"03\", sep=\"-\", end=\"-2019\")"
   ]
  },
  {
   "cell_type": "code",
   "execution_count": 11,
   "metadata": {},
   "outputs": [
    {
     "name": "stdout",
     "output_type": "stream",
     "text": [
      "Geeks = 10 , Portal = 99.5\n"
     ]
    }
   ],
   "source": [
    "print(\"Geeks = %2d , Portal = %.1f\" %(10, 99.55))"
   ]
  },
  {
   "cell_type": "code",
   "execution_count": 14,
   "metadata": {},
   "outputs": [
    {
     "name": "stdout",
     "output_type": "stream",
     "text": [
      "Total number of boys : 240 and girls : 150 \n"
     ]
    }
   ],
   "source": [
    "print(\"Total number of boys : %3d and girls : %3d \" %(240, 150))"
   ]
  },
  {
   "cell_type": "code",
   "execution_count": 24,
   "metadata": {},
   "outputs": [
    {
     "name": "stdout",
     "output_type": "stream",
     "text": [
      "Octal value :     012 \n"
     ]
    }
   ],
   "source": [
    "print(\"Octal value : %7.3o \" %(10) )"
   ]
  },
  {
   "cell_type": "code",
   "execution_count": 25,
   "metadata": {},
   "outputs": [
    {
     "name": "stdout",
     "output_type": "stream",
     "text": [
      "Printing Exponential value  3.570E+02 \n"
     ]
    }
   ],
   "source": [
    "print(\"Printing Exponential value %10.3E \" %(356.999))"
   ]
  },
  {
   "cell_type": "code",
   "execution_count": 32,
   "metadata": {},
   "outputs": [
    {
     "name": "stdout",
     "output_type": "stream",
     "text": [
      "portal, geeks\n"
     ]
    }
   ],
   "source": [
    "print(\"{1}, {0}\" .format(\"geeks\", \"portal\"))"
   ]
  },
  {
   "cell_type": "code",
   "execution_count": null,
   "metadata": {},
   "outputs": [],
   "source": []
  }
 ],
 "metadata": {
  "kernelspec": {
   "display_name": "Python 3",
   "language": "python",
   "name": "python3"
  },
  "language_info": {
   "codemirror_mode": {
    "name": "ipython",
    "version": 3
   },
   "file_extension": ".py",
   "mimetype": "text/x-python",
   "name": "python",
   "nbconvert_exporter": "python",
   "pygments_lexer": "ipython3",
   "version": "3.6.5"
  }
 },
 "nbformat": 4,
 "nbformat_minor": 2
}
