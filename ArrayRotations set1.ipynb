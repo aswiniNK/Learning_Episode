{
 "cells": [
  {
   "cell_type": "code",
   "execution_count": 2,
   "metadata": {},
   "outputs": [
    {
     "name": "stdout",
     "output_type": "stream",
     "text": [
      "5\n",
      "6\n",
      "52\n",
      "36\n",
      "12\n",
      "10\n"
     ]
    }
   ],
   "source": [
    "def split(arr, n , key):\n",
    "    \n",
    "    for i in range(key):\n",
    "        x = arr[0]\n",
    "        for j in range(n-1):\n",
    "            arr[j] = arr[j+1]\n",
    "        arr[n-1] = x\n",
    "\n",
    "arr = [12,10,5,6,52,36]\n",
    "split(arr, len(arr) , 2)\n",
    "\n",
    "for i in range(len(arr)):\n",
    "    print(arr[i])"
   ]
  },
  {
   "cell_type": "markdown",
   "metadata": {},
   "source": [
    "# Program for Sorting an Array through \"\"\"Merge Sort\"\"\""
   ]
  },
  {
   "cell_type": "code",
   "execution_count": 2,
   "metadata": {},
   "outputs": [
    {
     "name": "stdout",
     "output_type": "stream",
     "text": [
      "Given array is \n",
      "11 12 13 5 6 7 \n",
      " Sorted array is : \n",
      "5 6 7 11 12 13 \n"
     ]
    }
   ],
   "source": [
    "def mergeSort(arr):\n",
    "    if len(arr) > 1:\n",
    "        mid = len(arr)//2\n",
    "        L = arr[:mid]\n",
    "        R = arr[mid:]\n",
    "        \n",
    "        mergeSort(L)\n",
    "        mergeSort(R)\n",
    "        \n",
    "        i = k= j= 0\n",
    "        \n",
    "        #Copying data into temp arrays L and R\n",
    "        \n",
    "        while i < len(L) and j < len(R):\n",
    "            if L[i] < R[j]:\n",
    "                arr[k] = L[i]\n",
    "                i += 1\n",
    "            else:\n",
    "                arr[k] = R[j]\n",
    "                j += 1\n",
    "            k+=1\n",
    "            \n",
    "        #Checking if any element was left\n",
    "        \n",
    "        while i < len(L):\n",
    "            arr[k] = L[i]\n",
    "            i += 1\n",
    "            k +=1\n",
    "            \n",
    "        #code to print the list \n",
    "        \n",
    "def printList(arr):\n",
    "    for i in range(len(arr)):\n",
    "        print(arr[i] , end = \" \")\n",
    "    print()\n",
    "            \n",
    "#driver code to test above code\n",
    "\n",
    "if __name__ == '__main__':\n",
    "    arr = [11,12,13, 5,6,7];\n",
    "    print(\"Given array is \", end =\"\\n\")\n",
    "    printList(arr)\n",
    "    mergeSort(arr)\n",
    "    \n",
    "    print(\" Sorted array is : \", end = \"\\n\")\n",
    "    printList(arr)\n",
    "            \n",
    "            \n",
    "        \n",
    "        \n",
    "    "
   ]
  },
  {
   "cell_type": "markdown",
   "metadata": {},
   "source": [
    "# Python Program to \"\"\"find kth Smallest Element\"\"\""
   ]
  },
  {
   "cell_type": "code",
   "execution_count": 3,
   "metadata": {},
   "outputs": [
    {
     "name": "stdout",
     "output_type": "stream",
     "text": [
      "The kth Smallest e,element is  7\n"
     ]
    }
   ],
   "source": [
    "#python program to find kth largest element \n",
    "\n",
    "#Function to return kth smallest element in the given array \n",
    "\n",
    "def kthSmallest(arr, n, k):\n",
    "    mergeSort(arr)\n",
    "    return arr[k-1]\n",
    "\n",
    "#Driver code \n",
    "\n",
    "if __name__ == \"__main__\":\n",
    "    arr = [12,11,5,7,19]\n",
    "    n = len(arr)\n",
    "    k = 2\n",
    "    \n",
    "    print(\"The kth Smallest e,element is \", kthSmallest(arr, n, k))"
   ]
  },
  {
   "cell_type": "markdown",
   "metadata": {},
   "source": [
    "# Array Rotations backwise"
   ]
  },
  {
   "cell_type": "code",
   "execution_count": 20,
   "metadata": {},
   "outputs": [
    {
     "name": "stdout",
     "output_type": "stream",
     "text": [
      "5\n",
      "7\n",
      "9\n",
      "1\n",
      "3\n",
      "7\n",
      "9\n",
      "1\n",
      "3\n",
      "5\n",
      "9\n",
      "1\n",
      "3\n",
      "5\n",
      "7\n"
     ]
    }
   ],
   "source": [
    "def leftRotate(arr, n, k): \n",
    "  \n",
    "    # To get the starting point of rotated array \n",
    "    mod = k % n \n",
    "    s = \"\" \n",
    "  \n",
    "    # Prints the rotated array from start position \n",
    "    for i in range(n): \n",
    "        print(str(arr[(mod + i) % n])), \n",
    "    print\n",
    "    return\n",
    "  \n",
    "# Driver program \n",
    "arr = [ 1, 3, 5, 7, 9 ] \n",
    "n = len(arr) \n",
    "k = 2\n",
    "leftRotate(arr, n, k) \n",
    "  \n",
    "k = 3\n",
    "leftRotate(arr, n, k) \n",
    "  \n",
    "k = 4\n",
    "leftRotate(arr, n, k) "
   ]
  },
  {
   "cell_type": "code",
   "execution_count": 23,
   "metadata": {},
   "outputs": [
    {
     "ename": "SyntaxError",
     "evalue": "invalid syntax (<ipython-input-23-e780df807ada>, line 10)",
     "output_type": "error",
     "traceback": [
      "\u001b[1;36m  File \u001b[1;32m\"<ipython-input-23-e780df807ada>\"\u001b[1;36m, line \u001b[1;32m10\u001b[0m\n\u001b[1;33m    n = len(arr)\u001b[0m\n\u001b[1;37m    ^\u001b[0m\n\u001b[1;31mSyntaxError\u001b[0m\u001b[1;31m:\u001b[0m invalid syntax\n"
     ]
    }
   ],
   "source": [
    "def leftRotate(arr, n, k):\n",
    "    \n",
    "    mod = k % n\n",
    "    s = \"\"\n",
    "    \n",
    "    for i in range(n):\n",
    "        print(str(arr[(mod + i) % n]),\n",
    "\n",
    "arr = [1,3,5,7,9]\n",
    "n = len(arr)\n",
    "\n",
    "k = 2\n",
    "leftRotate(arr, n, k)\n",
    "\n",
    "k = 3\n",
    "leftRotate(arr, n, k)\n",
    "\n",
    "k = 4\n",
    "leftRotate(arr,n,k)\n"
   ]
  },
  {
   "cell_type": "code",
   "execution_count": 24,
   "metadata": {},
   "outputs": [
    {
     "name": "stdout",
     "output_type": "stream",
     "text": [
      "5 7 9 1 3  \n",
      "7 9 1 3 5  \n",
      "9 1 3 5 7  \n"
     ]
    }
   ],
   "source": [
    "def preprocessor(arr, n):\n",
    "    temp = [None] * (2 * n)\n",
    "    \n",
    "    for i in range(n):\n",
    "        temp[i] = temp[i+n] = arr[i]\n",
    "\n",
    "    return temp\n",
    "\n",
    "def leftRotate(arr, n, k, temp):\n",
    "    \n",
    "    start =  k % n\n",
    "    \n",
    "    for i in range(start, start+n):\n",
    "        print(temp[i], end = \" \")\n",
    "    print(\" \")\n",
    "\n",
    "\n",
    "arr = [1,3,5,7,9]\n",
    "n = len(arr)\n",
    "\n",
    "temp =  preprocessor(arr, n)\n",
    "\n",
    "k = 2\n",
    "leftRotate(arr, n, k, temp)\n",
    "\n",
    "k = 3\n",
    "leftRotate(arr, n, k, temp)\n",
    "\n",
    "k = 4\n",
    "leftRotate(arr, n, k, temp)\n",
    "\n"
   ]
  },
  {
   "cell_type": "markdown",
   "metadata": {},
   "source": [
    "# Array Rotation Program by reversing AB to BA, ArBr BA\n"
   ]
  },
  {
   "cell_type": "code",
   "execution_count": 7,
   "metadata": {},
   "outputs": [
    {
     "name": "stdout",
     "output_type": "stream",
     "text": [
      "[3, 4, 5, 6, 7, 1, 2]\n"
     ]
    }
   ],
   "source": [
    "def leftRotate(arr, d):\n",
    "    n = len(arr)\n",
    "    reverse(arr, 0, d-1)\n",
    "    reverse(arr, d , n-1)\n",
    "    reverse(arr, 0, n-1)\n",
    "    \n",
    "def reverse(arr, start, end):\n",
    "    \n",
    "    while start < end :\n",
    "        temp = arr[start]\n",
    "        arr[start] = arr[end]\n",
    "        arr[end] = temp\n",
    "        start += 1\n",
    "        end -= 1\n",
    "    \n",
    "#Driver program\n",
    "arr = [1,2,3,4,5,6,7]\n",
    "d = 2\n",
    "\n",
    "leftRotate(arr, d)\n",
    "\n",
    "print(arr)"
   ]
  },
  {
   "cell_type": "code",
   "execution_count": 9,
   "metadata": {},
   "outputs": [
    {
     "name": "stdout",
     "output_type": "stream",
     "text": [
      "Given Array is \n",
      "1 2 3 4 5 6 7 \n",
      "Rotated Array\n",
      "7 1 2 3 4 5 6 "
     ]
    }
   ],
   "source": [
    "def rotate(arr, n):\n",
    "    x = arr[n-1]\n",
    "    \n",
    "    for i in range(n-1 , 0 , -1):\n",
    "        arr[i] = arr[i-1];\n",
    "    arr[0] = x\n",
    "\n",
    "arr = [1,2,3,4,5,6,7]\n",
    "n = len(arr)\n",
    "\n",
    "print(\"Given Array is \")\n",
    "for i in range(0, n):\n",
    "    print(arr[i] , end = \" \")\n",
    "\n",
    "rotate(arr, n)\n",
    "\n",
    "print(\"\\nRotated Array\")\n",
    "\n",
    "for i in range(0, n):\n",
    "    print(arr[i] , end= \" \")\n"
   ]
  },
  {
   "cell_type": "markdown",
   "metadata": {},
   "source": [
    "# Array Rotation sum"
   ]
  },
  {
   "cell_type": "code",
   "execution_count": 7,
   "metadata": {},
   "outputs": [
    {
     "name": "stdout",
     "output_type": "stream",
     "text": [
      "Array Has\n"
     ]
    }
   ],
   "source": [
    "\n",
    "\n",
    "\n",
    "\n",
    "\n",
    "#Driver Program\n",
    "\n",
    "arr = [11,15,10,6,8,9]\n",
    "\n",
    "sum = 16\n",
    "\n",
    "n = len(arr)\n",
    "\n",
    "if(rotate(arr, n, sum)):\n",
    "    print(\"Array Has\")\n",
    "else:\n",
    "    print(\"Array Doesn't\")"
   ]
  },
  {
   "cell_type": "code",
   "execution_count": 4,
   "metadata": {},
   "outputs": [],
   "source": [
    "def rotate(arr, n, x):\n",
    "    \n",
    "    for i in range(0, n-1):\n",
    "        \n",
    "        if(arr[i] > arr[i+1]):\n",
    "            break;\n",
    "    \n",
    "    l = (i+1)%n;\n",
    "    \n",
    "    r = i\n",
    "    \n",
    "    while(l != r):\n",
    "        \n",
    "        if(arr[l] + arr[r] == x):\n",
    "            return True\n",
    "        \n",
    "        if(arr[l] + arr[r] < x):\n",
    "\n",
    "            l = (l+1) % n;\n",
    "            \n",
    "        else:\n",
    "            r = (n+r-1) % n\n",
    "    return False"
   ]
  },
  {
   "cell_type": "code",
   "execution_count": 9,
   "metadata": {},
   "outputs": [
    {
     "name": "stdout",
     "output_type": "stream",
     "text": [
      "2\n"
     ]
    }
   ],
   "source": [
    "\n",
    "def CountPair(arr, n, x):\n",
    "    \n",
    "    for i in range(0, n):\n",
    "        if(arr[i] > arr[i+1]):\n",
    "            break\n",
    "    \n",
    "    #l is the index of smallest element where i is pivot\n",
    "    \n",
    "    l = (i+1)%n\n",
    "    r = i\n",
    "    cnt = 0\n",
    "    \n",
    "    while(l != r):\n",
    "        \n",
    "        if(arr[l]+ arr[r] == x):\n",
    "            cnt += 1;\n",
    "            \n",
    "            if l == (r-1+n)%n :\n",
    "                return cnt\n",
    "            \n",
    "            l = (l+1) % n\n",
    "            r = (r-1 + n) % n\n",
    "            \n",
    "        elif arr[l] + arr[r] < x:\n",
    "            l = (l+1) % n\n",
    "            \n",
    "            \n",
    "        else:\n",
    "            r = (n+r-1) % n\n",
    "    return cnt\n",
    "\n",
    "#Driver code::\n",
    "\n",
    "arr = [11,15,6,7,9,10]\n",
    "\n",
    "s = 16\n",
    "\n",
    "print(CountPair(arr,6,s))\n",
    "\n"
   ]
  },
  {
   "cell_type": "markdown",
   "metadata": {},
   "source": [
    "# Array Sum by max rotations"
   ]
  },
  {
   "cell_type": "code",
   "execution_count": 2,
   "metadata": {},
   "outputs": [
    {
     "name": "stdout",
     "output_type": "stream",
     "text": [
      "The maximum value is  330\n"
     ]
    }
   ],
   "source": [
    "def maxSum(arr):\n",
    "    arrSum = 0\n",
    "    curVal = 0\n",
    "    n = len(arr)\n",
    "    for i in  range(n):\n",
    "        arrSum = arrSum + arr[i]\n",
    "        curVal = curVal + (i*arr[i])\n",
    "    \n",
    "    #initializing result\n",
    "    maxVal = curVal\n",
    "    \n",
    "    #Finding max value by all rotations\n",
    "    \n",
    "    for j in range(1, n):\n",
    "        curVal = curVal + arrSum - n*arr[n-j]\n",
    "        \n",
    "        if curVal > maxVal :\n",
    "            maxVal = curVal\n",
    "            \n",
    "    return maxVal\n",
    "    \n",
    "    \n",
    "arr = [10,1,2,3,4,5,6,7,8,9]\n",
    "print(\"The maximum value is \", maxSum(arr))"
   ]
  },
  {
   "cell_type": "code",
   "execution_count": 4,
   "metadata": {},
   "outputs": [
    {
     "name": "stdout",
     "output_type": "stream",
     "text": [
      "Maximum is  29\n"
     ]
    }
   ],
   "source": [
    "import sys\n",
    "def calMax(arr, n):\n",
    "    res = -sys.maxsize\n",
    "    \n",
    "    for i in range(0, n):\n",
    "        \n",
    "        curr_sum = 0\n",
    "        \n",
    "        for j in range(0, n):\n",
    "            \n",
    "            index = int((i+j)%n)\n",
    "            curr_sum += j*arr[index]\n",
    "\n",
    "        res = max(res, curr_sum)\n",
    "    return res\n",
    "#Driver code\n",
    "\n",
    "a = [8, 3, 1, 2]\n",
    "n = len(a)\n",
    "print(\"Maximum is \", calMax(a, n))"
   ]
  },
  {
   "cell_type": "code",
   "execution_count": 6,
   "metadata": {},
   "outputs": [
    {
     "name": "stdout",
     "output_type": "stream",
     "text": [
      "MAximum is  29\n"
     ]
    }
   ],
   "source": [
    "def maxCalValue(arr, n):\n",
    "    cum_sum = 0\n",
    "    cur_val = 0\n",
    "    \n",
    "    for i in range(0, n):\n",
    "        cum_sum += arr[i]\n",
    "        cur_val += i * arr[i]    \n",
    "    \n",
    "    res = cur_val\n",
    "    \n",
    "    for i in range(1, n):\n",
    "        \n",
    "        next_val = cur_val - (cum_sum - arr[i-1]) + arr[i-1] * (n-1)\n",
    "        \n",
    "        cur_val = next_val\n",
    "        \n",
    "        res = max(res, next_val)\n",
    "    \n",
    "    return res\n",
    "\n",
    "#Driver code\n",
    "a = [8, 3, 1, 2]\n",
    "n = len(a)\n",
    "print(\"MAximum is \", maxCalValue(a, n))"
   ]
  },
  {
   "cell_type": "code",
   "execution_count": 5,
   "metadata": {},
   "outputs": [
    {
     "name": "stdout",
     "output_type": "stream",
     "text": [
      "7 9 1 3 5 \n",
      "\n",
      "9 1 3 5 7 \n",
      "\n",
      "9 1 3 5 7 \n",
      "\n",
      "7 9 1 3 5 \n",
      "\n"
     ]
    }
   ],
   "source": [
    "#Array Program\n",
    "\n",
    "arr = [1,3,5,7,9]\n",
    "n = len(arr)\n",
    "temp = preprocessor(arr, n)\n",
    "\n",
    "k=3\n",
    "leftrotate12(arr, n , k, temp)\n",
    "\n",
    "k = 4\n",
    "leftrotate12(arr,n, k , temp)\n",
    "\n",
    "k = 14\n",
    "leftrotate12(arr,n,k,temp)\n",
    "\n",
    "k=13\n",
    "leftrotate12(arr,n,k,temp)\n",
    "\n"
   ]
  },
  {
   "cell_type": "code",
   "execution_count": 3,
   "metadata": {},
   "outputs": [],
   "source": [
    "def preprocessor(arr, n):\n",
    "    temp = [None] * (2*n)\n",
    "    \n",
    "    for i in range(n):\n",
    "        temp[i] = temp[i+n] = arr[i]\n",
    "    return temp\n",
    "\n",
    "def leftrotate12(arr, n, k , temp):\n",
    "    \n",
    "    start = k%n\n",
    "    \n",
    "    for i in range(start , start+n):\n",
    "        print(temp[i] , end=\" \")\n",
    "    \n",
    "    print(end=\"\\n\\n\")\n",
    "        \n"
   ]
  },
  {
   "cell_type": "code",
   "execution_count": 9,
   "metadata": {},
   "outputs": [
    {
     "name": "stdout",
     "output_type": "stream",
     "text": [
      "7 9 1 3 5 \n",
      "\n",
      "9 1 3 5 7 \n",
      "\n",
      "9 1 3 5 7 \n",
      "\n",
      "7 9 1 3 5 \n",
      "\n"
     ]
    }
   ],
   "source": [
    "#Driver code\n",
    "\n",
    "a = [1,3,5,7,9]\n",
    "n = len(a)\n",
    "\n",
    "k = 3\n",
    "rotation13(a, n, k)\n",
    "\n",
    "k=4\n",
    "rotation13(a,n,k)\n",
    "\n",
    "k=14\n",
    "rotation13(a,n,k)\n",
    "\n",
    "k=23\n",
    "rotation13(a,n,k)\n",
    "\n"
   ]
  },
  {
   "cell_type": "code",
   "execution_count": 7,
   "metadata": {},
   "outputs": [],
   "source": [
    "def rotation13(a, n, k):\n",
    "    \n",
    "    for i in range(k, k+n):\n",
    "        print(a[i%n] , end= \" \")\n",
    "    \n",
    "    print(end=\"\\n\\n\")"
   ]
  },
  {
   "cell_type": "code",
   "execution_count": 19,
   "metadata": {},
   "outputs": [
    {
     "name": "stdout",
     "output_type": "stream",
     "text": [
      "The Minimum element is :  1\n",
      "The minimum element is 1\n",
      "The minimum element is 1\n",
      "The minimum element is 1\n",
      "The minimum element is 1\n",
      "The minimum element is 1\n",
      "The minimum element is 1\n",
      "The minimum element is 1\n",
      "The minimum element is 1\n"
     ]
    }
   ],
   "source": [
    "#ARray Program\n",
    "arr1 = [5,6,1,2,3,4]\n",
    "n1 = len(arr1)\n",
    "print(\"The Minimum element is : \", findMin(arr1, 0, n1-1))\n",
    "\n",
    "arr2 = [1, 2, 3, 4] \n",
    "n2 = len(arr2) \n",
    "print(\"The minimum element is \" + str(findMin(arr2, 0, n2-1))) \n",
    "  \n",
    "arr3 = [1] \n",
    "n3 = len(arr3) \n",
    "print(\"The minimum element is \" + str(findMin(arr3, 0, n3-1))) \n",
    "  \n",
    "arr4 = [1, 2] \n",
    "n4 = len(arr4) \n",
    "print(\"The minimum element is \" + str(findMin(arr4, 0, n4-1))) \n",
    "  \n",
    "arr5 = [2, 1] \n",
    "n5 = len(arr5) \n",
    "print(\"The minimum element is \" + str(findMin(arr5, 0, n5-1))) \n",
    "  \n",
    "arr6 = [5, 6, 7, 1, 2, 3, 4] \n",
    "n6 = len(arr6) \n",
    "print(\"The minimum element is \" + str(findMin(arr6, 0, n6-1))) \n",
    "  \n",
    "arr7 = [1, 2, 3, 4, 5, 6, 7] \n",
    "n7 = len(arr7) \n",
    "print(\"The minimum element is \" + str(findMin(arr7, 0, n7-1))) \n",
    "  \n",
    "arr8 = [2, 3, 4, 5, 6, 7, 8, 1] \n",
    "n8 = len(arr8) \n",
    "print(\"The minimum element is \" + str(findMin(arr8, 0, n8-1))) \n",
    "  \n",
    "arr9 = [2, 2, 2, 2, 2, 2, 2, 2, 2, 1, 1, 2] \n",
    "n9 = len(arr9) \n",
    "print(\"The minimum element is \" + str(findMin(arr9, 0, n9-1))) \n"
   ]
  },
  {
   "cell_type": "code",
   "execution_count": 15,
   "metadata": {},
   "outputs": [],
   "source": [
    "def findMin(arr, low, high):\n",
    "    \n",
    "    if high < low :\n",
    "        return arr[0]\n",
    "    \n",
    "    if high == low :\n",
    "        return arr[low]\n",
    "    \n",
    "    mid = int((high+ low)/2)\n",
    "    \n",
    "    if mid<high and (arr[mid+1]<arr[mid]):\n",
    "        return arr[mid+1]\n",
    "    \n",
    "    if mid>low and arr[mid] <arr[mid-1]:\n",
    "        return arr[mid]\n",
    "    \n",
    "    if arr[high] >arr[mid]:\n",
    "        return findMin(arr, low, mid-1)\n",
    "    \n",
    "    return findMin(arr, mid+1, high)\n",
    "    "
   ]
  },
  {
   "cell_type": "code",
   "execution_count": 20,
   "metadata": {},
   "outputs": [],
   "source": [
    "#Array Rotation program"
   ]
  },
  {
   "cell_type": "code",
   "execution_count": 34,
   "metadata": {},
   "outputs": [
    {
     "name": "stdout",
     "output_type": "stream",
     "text": [
      "8 9 10 1 2 3 4 5 6 7 "
     ]
    }
   ],
   "source": [
    "a = [1,2,3,4,5,6,7,8,9,10]\n",
    "n = len(a)\n",
    "k = 3\n",
    "rotateArray15(a, k, n)\n",
    "\n",
    "for i in range(0, n):\n",
    "    print(a[i], end = \" \")"
   ]
  },
  {
   "cell_type": "code",
   "execution_count": 33,
   "metadata": {},
   "outputs": [],
   "source": [
    "def rotateArray15(a, d, n):\n",
    "    \n",
    "    leftRotate(a, 0, n-1)\n",
    "    leftRotate(a, 0, d-1)\n",
    "    leftRotate(a, d, n-1)\n",
    "    \n",
    "def leftRotate(a, start, end):\n",
    "    \n",
    "    while(start < end):\n",
    "        a[start], a[end] = a[end] , a[start]\n",
    "        start = start + 1\n",
    "        end = end-1"
   ]
  },
  {
   "cell_type": "code",
   "execution_count": 4,
   "metadata": {},
   "outputs": [
    {
     "data": {
      "text/plain": [
       "4"
      ]
     },
     "execution_count": 4,
     "metadata": {},
     "output_type": "execute_result"
    }
   ],
   "source": [
    "#array program with hamming distance\n",
    "\n",
    "def hamCal(arr, n):\n",
    "    \n",
    "    brr = [0] * (2 * n+1)\n",
    "    \n",
    "    for i in range(0, n):\n",
    "        brr[i] = brr[i+n] = arr[i]\n",
    "        \n",
    "    maxHam = 0\n",
    "    \n",
    "    for i in range(1, n):\n",
    "        \n",
    "        currHam = 0\n",
    "        k = 0\n",
    "        for j in range(i, (i+n)):\n",
    "            \n",
    "            if(brr[j] != arr[k]):\n",
    "                currHam += 1\n",
    "                k = k + 1\n",
    "            \n",
    "        if currHam == n :\n",
    "            return currHam\n",
    "    \n",
    "        maxHam = max(maxHam, currHam)\n",
    "        \n",
    "    return maxHam\n",
    "\n",
    "arr = [9, 8, 8, 9]\n",
    "n = len(arr)\n",
    "\n",
    "hamCal(arr, n)\n",
    "                "
   ]
  },
  {
   "cell_type": "code",
   "execution_count": null,
   "metadata": {},
   "outputs": [],
   "source": []
  }
 ],
 "metadata": {
  "kernelspec": {
   "display_name": "Python 3",
   "language": "python",
   "name": "python3"
  },
  "language_info": {
   "codemirror_mode": {
    "name": "ipython",
    "version": 3
   },
   "file_extension": ".py",
   "mimetype": "text/x-python",
   "name": "python",
   "nbconvert_exporter": "python",
   "pygments_lexer": "ipython3",
   "version": "3.6.5"
  }
 },
 "nbformat": 4,
 "nbformat_minor": 2
}
