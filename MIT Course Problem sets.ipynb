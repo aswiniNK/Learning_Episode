{
 "cells": [
  {
   "cell_type": "markdown",
   "metadata": {},
   "source": [
    "# MIT Course Problem Set"
   ]
  },
  {
   "cell_type": "markdown",
   "metadata": {},
   "source": [
    "### 1. Finding peak element (1D Array) Time Complexity : O(log n)"
   ]
  },
  {
   "cell_type": "code",
   "execution_count": 3,
   "metadata": {},
   "outputs": [
    {
     "name": "stdout",
     "output_type": "stream",
     "text": [
      "Index of a peak point is  2\n"
     ]
    }
   ],
   "source": [
    "# Using Divide and Conquer method O(log n)\n",
    "\n",
    "def findPeakUtil(arr, low, high, n):\n",
    "    \n",
    "    # Finding mid index\n",
    "    mid = low + (high  -  low)/2\n",
    "    mid = int(mid)\n",
    "    \n",
    "    ##Comparing middle index with its neighbouring (if neighbours exists)\n",
    "    if((mid == 0 or arr[mid -1] <= arr[mid] ) and (mid == n-1 or arr[mid + 1] <= arr[mid])):\n",
    "        return mid\n",
    "    \n",
    "    ## if the middle element is not peak and its left neighbor is greater than it, \n",
    "    ## than left half must have a peak element\n",
    "    elif(mid > 0 and arr[mid -1] > arr[mid]):\n",
    "        return findPeakUtil(arr, low, mid-1, n)\n",
    "    \n",
    "    # if the middle element is not peak and its right neighbor is greater than it, \n",
    "    # then right half must have a peak element\n",
    "    else:\n",
    "        return(findPeakUtil(arr, mid+1, high, n))\n",
    "    \n",
    "\n",
    "\n",
    "def findPeak(arr, n):\n",
    "    return findPeakUtil(arr, 0, n-1, n)\n",
    "\n",
    "\n",
    "arr = [1, 3, 20, 4, 1, 6, 50, 20]\n",
    "n = len(arr)\n",
    "print(\"Index of a peak point is \", findPeak(arr, n))"
   ]
  },
  {
   "cell_type": "markdown",
   "metadata": {},
   "source": [
    "## Peak Finding Problem in 2D array O(log n)"
   ]
  },
  {
   "cell_type": "code",
   "execution_count": 13,
   "metadata": {},
   "outputs": [
    {
     "name": "stdout",
     "output_type": "stream",
     "text": [
      "21\n"
     ]
    }
   ],
   "source": [
    "MAX = 100\n",
    "from math import ceil\n",
    "\n",
    "## Function to find the maximum in column in 'mid'\n",
    "## \"rows\" is number of rows\n",
    "\n",
    "def findMax(arr, rows, mid, max):\n",
    "    \n",
    "    max_index = 0\n",
    "    for i in range(rows):\n",
    "        if(max < arr[i][mid]):\n",
    "            # Saving global maximum and its index \n",
    "            # to check its neighbors\n",
    "            max = arr[i][mid]\n",
    "            max_index = i\n",
    "            \n",
    "    return max, max_index\n",
    "            \n",
    "\n",
    "def findPeakRec(arr, rows, columns, mid):    \n",
    "    # Evaluating maximum of mid columns,\n",
    "    # Note max is passed as reference\n",
    "    \n",
    "    max = 0\n",
    "    max, max_index = findMax(arr, rows, mid, max)\n",
    "    \n",
    "    # if we are on first or last column, max is peak\n",
    "    \n",
    "    if(mid == 0 or mid == columns -1):\n",
    "        return max\n",
    "    \n",
    "    # if mid column maximum is also peak\n",
    "    if(max >= arr[max_index][mid -1] and \n",
    "       max >= arr[max_index][mid +1]):\n",
    "        return max\n",
    "    \n",
    "    # if max is less than its left\n",
    "    if (max < arr[max_index][mid - 1]):\n",
    "        return findPeakRec(arr, rows, columns, mid - ceil(mid/2.0))\n",
    "    \n",
    "    # if max is less than its left \n",
    "    # if (max < arr[max_index][mid + 1])\n",
    "    \n",
    "    return findPeakRec(arr, rows, columns, mid + ceil(mid/2.0))\n",
    "    \n",
    "    \n",
    "\n",
    "\n",
    "\n",
    "def findPeak(arr, rows, columns):\n",
    "    return findPeakRec(arr, rows, columns, columns//2)\n",
    "\n",
    "\n",
    "arr = [[10, 8, 10, 10], \n",
    "      [14, 13, 12, 11],\n",
    "      [15, 9, 11, 21], \n",
    "      [16, 17, 19, 20]]\n",
    "\n",
    "rows = 4 #Number of rows\n",
    "columns = 4 # Number of columns\n",
    "\n",
    "print(findPeak(arr, rows, columns))"
   ]
  },
  {
   "cell_type": "code",
   "execution_count": 6,
   "metadata": {},
   "outputs": [
    {
     "name": "stdout",
     "output_type": "stream",
     "text": [
      "1\n"
     ]
    }
   ],
   "source": [
    "import math\n",
    "\n",
    "print(math.ceil(2/2.0))"
   ]
  },
  {
   "cell_type": "code",
   "execution_count": null,
   "metadata": {},
   "outputs": [],
   "source": []
  }
 ],
 "metadata": {
  "kernelspec": {
   "display_name": "Python 3",
   "language": "python",
   "name": "python3"
  },
  "language_info": {
   "codemirror_mode": {
    "name": "ipython",
    "version": 3
   },
   "file_extension": ".py",
   "mimetype": "text/x-python",
   "name": "python",
   "nbconvert_exporter": "python",
   "pygments_lexer": "ipython3",
   "version": "3.6.5"
  }
 },
 "nbformat": 4,
 "nbformat_minor": 2
}
