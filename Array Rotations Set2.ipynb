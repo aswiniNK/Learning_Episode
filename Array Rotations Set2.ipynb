{
 "cells": [
  {
   "cell_type": "code",
   "execution_count": 1,
   "metadata": {},
   "outputs": [],
   "source": [
    "# 1. Array Rotation"
   ]
  },
  {
   "cell_type": "code",
   "execution_count": 5,
   "metadata": {},
   "outputs": [
    {
     "name": "stdout",
     "output_type": "stream",
     "text": [
      "[3, 4, 5, 6, 1, 2] "
     ]
    }
   ],
   "source": [
    "def rotate1(a,d, n):\n",
    "    \n",
    "    for i in range(0, d):\n",
    "        leftRotate(a, n)\n",
    "    \n",
    "def leftRotate(a, n):\n",
    "    temp = a[0]\n",
    "    \n",
    "    for i in range(0, n-1):\n",
    "        a[i] = a[i+1]\n",
    "    \n",
    "    a[n-1] = temp\n",
    "\n",
    "#driver code\n",
    "a = [1,2,3,4,5,6]\n",
    "n = len(a)\n",
    "d = 2\n",
    "rotate1(a,d, n)\n",
    "\n",
    "print(a, end=\" \")"
   ]
  },
  {
   "cell_type": "code",
   "execution_count": 6,
   "metadata": {},
   "outputs": [],
   "source": [
    "# 2. Array Rotation"
   ]
  },
  {
   "cell_type": "code",
   "execution_count": 12,
   "metadata": {},
   "outputs": [
    {
     "name": "stdout",
     "output_type": "stream",
     "text": [
      "[3, 4, 5, 6, 7, 1, 2] "
     ]
    }
   ],
   "source": [
    "def leftRotate(arr, d, n):\n",
    "    \n",
    "    gcd1 = gcd(d, n)\n",
    "    \n",
    "    for i in range(gcd1):\n",
    "        \n",
    "        #Moving ith values of block\n",
    "        \n",
    "        temp = arr[i]\n",
    "        j = i\n",
    "        while 1:\n",
    "            k = j+d\n",
    "            if k>=n:\n",
    "                k = k-n\n",
    "            if k== i:\n",
    "                break\n",
    "            arr[j] = arr[k]\n",
    "            j = k\n",
    "        arr[j] = temp\n",
    "        \n",
    "\n",
    "def gcd(a, b):\n",
    "    \n",
    "    if b==0:\n",
    "        return a\n",
    "    else: \n",
    "        return gcd(b, a%b)\n",
    "\n",
    "    #driver program\n",
    "arr = [1,2,3,4,5,6,7]\n",
    "n = len(arr)\n",
    "leftRotate(arr, 2, n)\n",
    "\n",
    "print(arr, end = \" \")"
   ]
  },
  {
   "cell_type": "code",
   "execution_count": 14,
   "metadata": {},
   "outputs": [],
   "source": [
    "# 3. Array Rotation"
   ]
  },
  {
   "cell_type": "code",
   "execution_count": 22,
   "metadata": {},
   "outputs": [
    {
     "name": "stdout",
     "output_type": "stream",
     "text": [
      "[2, 3, 4, 5, 6, 7, 1] "
     ]
    }
   ],
   "source": [
    "def leftRotate3(a, d, n):\n",
    "    \n",
    "    reverseArray(a, 0, d-1)\n",
    "    reverseArray(a, d, n-1)\n",
    "    reverseArray(a, 0, n-1)\n",
    "\n",
    "    \n",
    "def reverseArray(arr, start, end):\n",
    "    \n",
    "    while start< end:\n",
    "        arr[start], arr[end] = arr[end] , arr[start]\n",
    "        start += 1\n",
    "        end -= 1\n",
    "\n",
    "#driver code\n",
    "a = [1,2,3,4,5,6,7]\n",
    "n = len(a)\n",
    "d = 15\n",
    "d = d% n\n",
    "leftRotate3(a, d, n)\n",
    " \n",
    "print(a, end= \" \")"
   ]
  },
  {
   "cell_type": "code",
   "execution_count": 24,
   "metadata": {},
   "outputs": [],
   "source": [
    "# 4. Array Rottation\n",
    "\n",
    "##Swap"
   ]
  },
  {
   "cell_type": "code",
   "execution_count": 26,
   "metadata": {},
   "outputs": [
    {
     "name": "stdout",
     "output_type": "stream",
     "text": [
      "[5, 1, 2, 3, 4] "
     ]
    }
   ],
   "source": [
    "# 5. Array Rotations\n",
    "\n",
    "def rotate(a, n):\n",
    "    \n",
    "    x = a[n-1]\n",
    "    \n",
    "    for i in range(n-1, 0, -1):\n",
    "        a[i] = a[i-1]\n",
    "    a[0] = x\n",
    "a = [1,2,3,4,5]\n",
    "rotate(a, len(a))\n",
    "print(a, end=\" \")"
   ]
  },
  {
   "cell_type": "code",
   "execution_count": 3,
   "metadata": {},
   "outputs": [
    {
     "name": "stdout",
     "output_type": "stream",
     "text": [
      "Array has sum\n"
     ]
    }
   ],
   "source": [
    "# 6. Array Sum\n",
    "def pairSum(arr, n, x):\n",
    "    \n",
    "    for i in range(0, n-1):\n",
    "        if(arr[i] > arr[i+1]):\n",
    "            break\n",
    "    \n",
    "    #l is the smallest element in the array\n",
    "    l = (i+1) % n\n",
    "    \n",
    "    # r is the largest element index\n",
    "    r = i\n",
    "    \n",
    "    #Keep moving either l or r till they meet\n",
    "    while(l != r):\n",
    "        #If we find a sum x we return true\n",
    "        \n",
    "        if(arr[l] + arr[r] == x):\n",
    "            return True\n",
    "        \n",
    "        # if current pair is less, then move to the higher sum\n",
    "        \n",
    "        if(arr[l] + arr[r] < x):\n",
    "            l = (l+1) % n;\n",
    "        else:\n",
    "            r = (n+ r -1) % n;\n",
    "    return False\n",
    "            \n",
    "    \n",
    "\n",
    "arr = [11, 15, 6, 38, 9, 10]\n",
    "sum = 16\n",
    "n = len(arr)\n",
    "\n",
    "if(pairSum(arr, n, sum)):\n",
    "    print(\"Array has sum\")\n",
    "else:\n",
    "    print(\"Array doesnot have\")"
   ]
  },
  {
   "cell_type": "code",
   "execution_count": 9,
   "metadata": {},
   "outputs": [
    {
     "name": "stdout",
     "output_type": "stream",
     "text": [
      "5\n"
     ]
    }
   ],
   "source": [
    "# 7. Array no of sum pairs with count\n",
    "def pairSum2(arr, n, x):\n",
    "    #finding pivot\n",
    "    \n",
    "    for i in range(0, n-1):\n",
    "        if(arr[i] > arr[i+1]):\n",
    "            break;\n",
    "    \n",
    "    #l is the index of smallest element\n",
    "    l = (i+1) % n\n",
    "    #r is the smallest index\n",
    "    r = i;\n",
    "    #variable to store count of pairs\n",
    "    cnt = 0\n",
    "    \n",
    "    while(l != r):\n",
    "        \n",
    "        if(arr[l] + arr[r] == x):\n",
    "            cnt += 1\n",
    "            \n",
    "            if(l == (r-1+ n)%n):\n",
    "                return cnt\n",
    "            \n",
    "            l = (l+1)%n\n",
    "            r = (r-1+n)%n\n",
    "        \n",
    "        #if current pair sum is high\n",
    "        elif(arr[l] + arr[r] < x):\n",
    "            l = (l+1) % n\n",
    "            \n",
    "        #if current pair sum is graeter move to lower\n",
    "        else: \n",
    "            r = (n+r-1)% n;\n",
    "            \n",
    "    return cnt\n",
    "        \n",
    "                \n",
    "    \n",
    "    \n",
    "    \n",
    "\n",
    "arr = [11, 11, 15,5,5, 6,7,8,8,9,10]\n",
    "s = 16\n",
    "n = len(arr)\n",
    "print(pairSum2(arr, n , s))"
   ]
  },
  {
   "cell_type": "code",
   "execution_count": 10,
   "metadata": {},
   "outputs": [
    {
     "name": "stdout",
     "output_type": "stream",
     "text": [
      "Maximum sum is   330\n"
     ]
    }
   ],
   "source": [
    "#8. Array maximum sum calculation\n",
    "\n",
    "def maxSuum(arr, n):\n",
    "    #stores sum of arr[i]\n",
    "    arrSum  = 0\n",
    "    \n",
    "    # stores sum of i * arr[i]\n",
    "    currSum = 0\n",
    "    \n",
    "    for i in range(0, n):\n",
    "        arrSum = arrSum + arr[i]\n",
    "        currSum = currSum + (i*arr[i])\n",
    "        \n",
    "    #Initialize result\n",
    "    maxVal = currSum\n",
    "    \n",
    "    #Trying all rotations one by one and finding the max rotation sum\n",
    "    \n",
    "    for j in range(1, n):\n",
    "        currSum = currSum + arrSum - n * arr[n-j]\n",
    "        \n",
    "        if(currSum > maxVal):\n",
    "            maxVal = currSum\n",
    "            \n",
    "    return maxVal\n",
    "    \n",
    "    \n",
    "    \n",
    "    \n",
    "    \n",
    "arr = [10, 1,2,3,4,5,6,7,8,9]\n",
    "n = len(arr)\n",
    "\n",
    "print(\"Maximum sum is  \", maxSuum(arr, n))"
   ]
  },
  {
   "cell_type": "code",
   "execution_count": 12,
   "metadata": {},
   "outputs": [
    {
     "name": "stdout",
     "output_type": "stream",
     "text": [
      "29\n"
     ]
    }
   ],
   "source": [
    "# 9. Maximum Sum Rotation\n",
    "\n",
    "import sys\n",
    "def maxSum(arr, n):\n",
    "    \n",
    "    res = -sys.maxsize\n",
    "    \n",
    "    #Considering rotation beginning with i\n",
    "    #for all possible values\n",
    "    \n",
    "    for i in range(0, n):\n",
    "        \n",
    "        currSum = 0\n",
    "        \n",
    "        for j in range(0, n):\n",
    "            \n",
    "            index = int((i+j)%n)\n",
    "            currSum += j * arr[index]\n",
    "            \n",
    "        res = max(res, currSum)\n",
    "    \n",
    "    \n",
    "    return res\n",
    "        \n",
    "        \n",
    "arr = [8,3,1,2]\n",
    "print(maxSum(arr, len(arr)))"
   ]
  },
  {
   "cell_type": "code",
   "execution_count": 16,
   "metadata": {},
   "outputs": [
    {
     "name": "stdout",
     "output_type": "stream",
     "text": [
      "29\n"
     ]
    }
   ],
   "source": [
    "#Compute Max sum of i * arr[i] in O(n)\n",
    "\n",
    "def maxSum(arr, n):\n",
    "    \n",
    "    #Computing sum of all elements in array\n",
    "    cumSum = 0\n",
    "    #computing sum of i*arr[i] for initial configuration\n",
    "    curVal = 0\n",
    "    \n",
    "    for i in range(0, n):\n",
    "        cumSum += arr[i]\n",
    "        curVal += i* arr[i]\n",
    "        \n",
    "    #Initializing the result\n",
    "    res  = curVal\n",
    "    \n",
    "    #Computing values for other iterations\n",
    "    \n",
    "    for i in range(1, n):\n",
    "        \n",
    "        #Compute next value using previous vaalue\n",
    "        #in O(n) time\n",
    "        \n",
    "        nextVal = (curVal - (cumSum - arr[i-1]) + arr[i-1]* (n-1))\n",
    "        \n",
    "        \n",
    "        #Updating current value\n",
    "        curVal = nextVal\n",
    "        #updating result if required\n",
    "        \n",
    "        res = max(res, nextVal)\n",
    "        \n",
    "    return res\n",
    "\n",
    "arr = [8,3,1,2]\n",
    "print(maxSum(arr, len(arr)))"
   ]
  },
  {
   "cell_type": "code",
   "execution_count": 18,
   "metadata": {},
   "outputs": [
    {
     "name": "stdout",
     "output_type": "stream",
     "text": [
      "29\n"
     ]
    }
   ],
   "source": [
    "# 11. Finding maxSum using Pivot element method\n",
    "\n",
    "def maxSum11(arr, n):\n",
    "    \n",
    "    sum = 0\n",
    "    pivot = findPivot(arr, n)\n",
    "    diff = n-1 - pivot\n",
    "    \n",
    "    for i in range(0, n):\n",
    "        sum = sum + ((i+diff) %n ) * arr[i];\n",
    "\n",
    "    return sum\n",
    "\n",
    "def findPivot(arr, n):\n",
    "    \n",
    "    for i in range(0, n):\n",
    "        if(arr[i] > arr[(i+1) % n]):\n",
    "            return i\n",
    "\n",
    "arr = [8,3,1,2]\n",
    "print(maxSum11(arr, len(arr)))"
   ]
  },
  {
   "cell_type": "code",
   "execution_count": 19,
   "metadata": {},
   "outputs": [
    {
     "name": "stdout",
     "output_type": "stream",
     "text": [
      "2\n"
     ]
    }
   ],
   "source": [
    "# 12. Rotation Count in sorted and rotated array \n",
    "\n",
    "def maxCount(arr, n):\n",
    "    min = arr[0]\n",
    "    \n",
    "    for i in range(0, n):\n",
    "        \n",
    "        if (min > arr[i]):\n",
    "            \n",
    "            min = arr[i]\n",
    "            min_index = i\n",
    "    return min_index\n",
    "\n",
    "arr = [15, 18, 2, 3,6,12 ]\n",
    "print(maxCount(arr, len(arr)))\n"
   ]
  },
  {
   "cell_type": "code",
   "execution_count": 21,
   "metadata": {},
   "outputs": [
    {
     "name": "stdout",
     "output_type": "stream",
     "text": [
      "2\n"
     ]
    }
   ],
   "source": [
    "# 13. Rotation count using Binary Search\n",
    "\n",
    "def RotateCount(arr, low, high):\n",
    "    \n",
    "    #This condition id=s required when array is not rotated at all\n",
    "    if(high < low):\n",
    "        return 0\n",
    "    #If there is only one elemengt is left\n",
    "    if(high == low):\n",
    "        return low\n",
    "    \n",
    "    #Finding mid value\n",
    "    #mid = low + (high - low)/2\n",
    "    mid = int((high + low) /2)\n",
    "    \n",
    "    #Checking if the element mid+1 is minimum element.\n",
    "    #Considering the cases like { 3,4,5,1,2}\n",
    "    \n",
    "    if(mid < high and arr[mid+1] < arr[mid]):\n",
    "        return mid+1\n",
    "    \n",
    "    #Checking if mid is minimum element\n",
    "    if(mid> low and arr[mid] < arr[mid-1]):\n",
    "        return mid\n",
    "    \n",
    "    #Deciding wheather we need to go left or right side\n",
    "    \n",
    "    if(arr[high] > arr[mid]):\n",
    "        return RotateCount(arr, low, mid-1)\n",
    "    \n",
    "    return RotateCount(arr, mid+1, high)\n",
    "    \n",
    "    \n",
    "    \n",
    "\n",
    "arr = [15,18, 2,3,6, 12]\n",
    "print(RotateCount(arr, 0, len(arr)-1))"
   ]
  },
  {
   "cell_type": "code",
   "execution_count": 23,
   "metadata": {},
   "outputs": [
    {
     "name": "stdout",
     "output_type": "stream",
     "text": [
      "5 7 9 1 3  \n",
      "7 9 1 3 5  \n",
      "9 1 3 5 7  \n"
     ]
    }
   ],
   "source": [
    "#Left Rotation of Array\n",
    "\n",
    "def preprocess(arr, n):\n",
    "    temp = [None] * (2*n)\n",
    "    \n",
    "    #SToring arr elements in i and i+n\n",
    "    \n",
    "    for i in range(n):\n",
    "        temp[i] = temp[i+n] = arr[i]\n",
    "    return temp\n",
    "    \n",
    "def leftRotate(arr, n, k , temp):\n",
    "    \n",
    "    #Starting position of array after k rotations in temp will be k % n\n",
    "    \n",
    "    start = k%n\n",
    "    #Printing array after k rotations \n",
    "    for i in range(start, start + n):\n",
    "        print(temp[i], end = \" \")\n",
    "        \n",
    "    print(\" \")\n",
    "###Driver program \n",
    "arr = [1, 3, 5, 7, 9] \n",
    "n = len(arr) \n",
    "temp = preprocess(arr, n) \n",
    "  \n",
    "k = 2\n",
    "leftRotate(arr, n, k, temp) \n",
    "        \n",
    "k = 3\n",
    "leftRotate(arr, n, k, temp) \n",
    "        \n",
    "k = 4\n",
    "leftRotate(arr, n, k, temp)"
   ]
  },
  {
   "cell_type": "code",
   "execution_count": 24,
   "metadata": {},
   "outputs": [
    {
     "name": "stdout",
     "output_type": "stream",
     "text": [
      "5 7 9 1 3 \n",
      "\n",
      "7 9 1 3 5 \n",
      "\n",
      "9 1 3 5 7 \n",
      "\n"
     ]
    }
   ],
   "source": [
    "#Above Method with less space utilization\n",
    "\n",
    "def leftRotate(arr, n, k):\n",
    "    \n",
    "    for i in range(k , k+n):\n",
    "        print(arr[i%n] , end = \" \")\n",
    "        \n",
    "    print()\n",
    "\n",
    "# Driver Code \n",
    "arr = [1, 3, 5, 7, 9] \n",
    "n = len(arr) \n",
    "k = 2; \n",
    "leftRotate(arr, n, k) \n",
    "print() \n",
    "  \n",
    "k = 3; \n",
    "leftRotate(arr, n, k) \n",
    "print() \n",
    "  \n",
    "k = 4\n",
    "leftRotate(arr, n, k) \n",
    "print() \n"
   ]
  },
  {
   "cell_type": "code",
   "execution_count": 30,
   "metadata": {},
   "outputs": [
    {
     "name": "stdout",
     "output_type": "stream",
     "text": [
      "The minimum element is 1\n",
      "The minimum element is 1\n",
      "The minimum element is 1\n",
      "The minimum element is 1\n",
      "The minimum element is 1\n",
      "The minimum element is 1\n",
      "The minimum element is 1\n",
      "The minimum element is 1\n",
      "The minimum element is 1\n"
     ]
    }
   ],
   "source": [
    "# 16. Array Rotations\n",
    "\n",
    "def findMin(arr, low, high):\n",
    "    \n",
    "    #This condition is required when the array is not rotated at all\n",
    "    if(high < low):\n",
    "        return arr[0]\n",
    "    \n",
    "    #If there is only one element is left\n",
    "    if(high == low):\n",
    "        return arr[low]\n",
    "    \n",
    "    #Finding mid\n",
    "    mid = int(low+ (high - low)/2)\n",
    "    \n",
    "    #Checking if the mid+1 element is smallest \n",
    "    #Considering the cases like { 3, 4,5,1,2}\n",
    "    \n",
    "    if mid < high and arr[mid+1] < arr[mid]:\n",
    "        return arr[mid+1]\n",
    "    \n",
    "    #Checking if mid itself an mid element\n",
    "    \n",
    "    if( mid > low and arr[mid] < arr[mid-1]):\n",
    "        return arr[mid]\n",
    "    \n",
    "    #Deciding wheater we need to go to left rotate or right rotate\n",
    "    \n",
    "    if(arr[high] > arr[mid]):\n",
    "        return findMin(arr, low , mid-1)\n",
    "    \n",
    "    return findMin(arr, mid+1, high)\n",
    "    \n",
    "    \n",
    "    \n",
    "\n",
    "arr1 = [5, 6, 1, 2, 3, 4] \n",
    "n1 = len(arr1) \n",
    "print(\"The minimum element is \" + str(findMin(arr1, 0, n1-1))) \n",
    "  \n",
    "arr2 = [1, 2, 3, 4] \n",
    "n2 = len(arr2) \n",
    "print(\"The minimum element is \" + str(findMin(arr2, 0, n2-1))) \n",
    "  \n",
    "arr3 = [1] \n",
    "n3 = len(arr3) \n",
    "print(\"The minimum element is \" + str(findMin(arr3, 0, n3-1))) \n",
    "  \n",
    "arr4 = [1, 2] \n",
    "n4 = len(arr4) \n",
    "print(\"The minimum element is \" + str(findMin(arr4, 0, n4-1))) \n",
    "  \n",
    "arr5 = [2, 1] \n",
    "n5 = len(arr5) \n",
    "print(\"The minimum element is \" + str(findMin(arr5, 0, n5-1))) \n",
    "  \n",
    "arr6 = [5, 6, 7, 1, 2,-555, 3, 4] \n",
    "n6 = len(arr6) \n",
    "print(\"The minimum element is \" + str(findMin(arr6, 0, n6-1))) \n",
    "  \n",
    "arr7 = [1, 2, 3, 4, 5, 6, 7] \n",
    "n7 = len(arr7) \n",
    "print(\"The minimum element is \" + str(findMin(arr7, 0, n7-1))) \n",
    "  \n",
    "arr8 = [2, 3, 4, 5, 6, 7, 8, 1] \n",
    "n8 = len(arr8) \n",
    "print(\"The minimum element is \" + str(findMin(arr8, 0, n8-1))) \n",
    "  \n",
    "arr9 = [3, 4, 5, 1, 2] \n",
    "n9 = len(arr9) \n",
    "print(\"The minimum element is \" + str(findMin(arr9, 0, n9-1))) "
   ]
  },
  {
   "cell_type": "code",
   "execution_count": 37,
   "metadata": {},
   "outputs": [
    {
     "name": "stdout",
     "output_type": "stream",
     "text": [
      "[8, 9, 10, 1, 2, 3, 4, 5, 6, 7] "
     ]
    }
   ],
   "source": [
    "#array Rotations in right direction\n",
    "\n",
    "def rightRotate(a, n , d):\n",
    "    \n",
    "    reverseArray(a, 0, n-1)\n",
    "    reverseArray(a, 0, d-1)\n",
    "    reverseArray(a, d, n-1)\n",
    "    \n",
    "def reverseArray(a, start, end):\n",
    "    \n",
    "    while(start < end):\n",
    "        a[start] , a[end] = a[end] , a[start]\n",
    "        start = start + 1\n",
    "        end = end -1\n",
    "        \n",
    "        \n",
    "\n",
    "\n",
    "a = [1,2,3,4,5,6,7,8,9,10]\n",
    "rightRotate(a, len(a), 3)\n",
    "print(a, end= \" \")"
   ]
  },
  {
   "cell_type": "raw",
   "metadata": {},
   "source": [
    "#Array Hamming distance find \n",
    "\n",
    "def findHam(arr , n):\n",
    "    \n",
    "    #Copying arr[] to brr[] two times \n",
    "    #So that we can traverse through all rotations\n",
    "    \n",
    "    brr = [0] * (2 * n+1)\n",
    "    \n",
    "    for i in range(n):\n",
    "        brr[i] = arr[i]\n",
    "        brr[i+n] = arr[i]\n",
    "        \n",
    "    #We know that hamming distance with 0 rotations would be 0 \n",
    "    \n",
    "    maxHam = 0\n",
    "    \n",
    "    #We try other rotations one by one and compute hamming\n",
    "    #distance of every rotation\n",
    "    \n",
    "    for i in range(1,n):\n",
    "        currHam = 0\n",
    "        k = 0\n",
    "        for j in range(i, i+n):\n",
    "            if brr[j] != arr[k]:\n",
    "                currHam += 1\n",
    "                k = k + 1\n",
    "        if currHam == n:\n",
    "            return n\n",
    "        maxHam = max(maxHam, currHam)\n",
    "        \n",
    "    return maxHam\n",
    "            \n",
    "    \n",
    "\n",
    "a = [2,4,6,8]\n",
    "n = len(a)\n",
    "print(\"Max hamming is \" + str(findHam(a, n)))\n"
   ]
  },
  {
   "cell_type": "code",
   "execution_count": 42,
   "metadata": {},
   "outputs": [
    {
     "name": "stdout",
     "output_type": "stream",
     "text": [
      "1\n"
     ]
    }
   ],
   "source": [
    "def findElement(arr, ranges, rotations, index):\n",
    "    \n",
    "    for i in range(rotations -1 , -1, -1):\n",
    "        \n",
    "        #Range [left ... right]\n",
    "        \n",
    "        left  = ranges[i][0]\n",
    "        right = ranges[i][1]\n",
    "        \n",
    "        #Rotation will not have any effect\n",
    "        \n",
    "        if(left <= index and right >= index):\n",
    "            if(index == left):\n",
    "                index = right\n",
    "            else:\n",
    "                index = index-1\n",
    "                \n",
    "        #Returning new element\n",
    "        \n",
    "        return arr[index]\n",
    "    \n",
    "\n",
    "# Driver Code \n",
    "arr = [ 1, 2, 3, 4, 5 ] \n",
    "  \n",
    "# No. of rotations \n",
    "rotations = 2\n",
    "  \n",
    "# Ranges according to  \n",
    "# 0-based indexing \n",
    "ranges = [ [ 0, 2 ], [ 0, 3 ] ] \n",
    "  \n",
    "index = 1\n",
    "  \n",
    "print(findElement(arr, ranges, rotations, index)) "
   ]
  },
  {
   "cell_type": "code",
   "execution_count": 43,
   "metadata": {},
   "outputs": [
    {
     "name": "stdout",
     "output_type": "stream",
     "text": [
      "[5, 6, 52, 36, 12, 10] "
     ]
    }
   ],
   "source": [
    "#20. Array Rotations\n",
    "\n",
    "def splitArr(arr, n, k):\n",
    "    for i in range(0,k):\n",
    "        x = arr[0]\n",
    "        \n",
    "        for j in range(0, n-1):\n",
    "            arr[j] = arr[j+1]\n",
    "            \n",
    "        arr[n-1] = x\n",
    "\n",
    "#main code # driver code\n",
    "\n",
    "\n",
    "arr = [12, 10, 5, 6, 52, 36]\n",
    "\n",
    "n = len(arr)\n",
    "position = 2\n",
    "\n",
    "splitArr(arr, n, position)\n",
    "\n",
    "print(arr, end= \" \")\n",
    "\n"
   ]
  },
  {
   "cell_type": "code",
   "execution_count": 44,
   "metadata": {},
   "outputs": [
    {
     "name": "stdout",
     "output_type": "stream",
     "text": [
      "5 6 52 36 12 10 \n"
     ]
    }
   ],
   "source": [
    "# 21. Array Rotations\n",
    "\n",
    "def SplitAndAdd(A, length, rotation):\n",
    "    \n",
    "    #Making the temporary array into double the size\n",
    "    #and each index is initialized with 0\n",
    "    \n",
    "    tmp = [0 for i in range(length * 2)]\n",
    "    \n",
    "    #Copy array element in to new array twice \n",
    "    \n",
    "    for i in range(length):\n",
    "        tmp[i] = A[i]\n",
    "        tmp[i+length] = A[i]\n",
    "        \n",
    "    for i in range(rotation, rotation + length, 1):\n",
    "        \n",
    "        A[i - rotation] = tmp[i];\n",
    "        \n",
    "        \n",
    "        \n",
    "\n",
    "# Driver code  \n",
    "arr = [12, 10, 5, 6, 52, 36]  \n",
    "n = len(arr)  \n",
    "position = 2\n",
    "SplitAndAdd(arr, n, position);  \n",
    "for i in range(n): \n",
    "    print(arr[i], end = \" \") \n",
    "print()"
   ]
  },
  {
   "cell_type": "code",
   "execution_count": null,
   "metadata": {},
   "outputs": [],
   "source": []
  }
 ],
 "metadata": {
  "kernelspec": {
   "display_name": "Python 3",
   "language": "python",
   "name": "python3"
  },
  "language_info": {
   "codemirror_mode": {
    "name": "ipython",
    "version": 3
   },
   "file_extension": ".py",
   "mimetype": "text/x-python",
   "name": "python",
   "nbconvert_exporter": "python",
   "pygments_lexer": "ipython3",
   "version": "3.6.5"
  }
 },
 "nbformat": 4,
 "nbformat_minor": 2
}
