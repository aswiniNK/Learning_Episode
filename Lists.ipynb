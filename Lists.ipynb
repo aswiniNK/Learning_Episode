{
 "cells": [
  {
   "cell_type": "code",
   "execution_count": 2,
   "metadata": {},
   "outputs": [
    {
     "name": "stdout",
     "output_type": "stream",
     "text": [
      "['Geeks', 'for', 'Geeks']\n"
     ]
    }
   ],
   "source": [
    "L = [\"Geeks\", \"for\", 'Geeks']\n",
    "print(L)"
   ]
  },
  {
   "cell_type": "code",
   "execution_count": 7,
   "metadata": {},
   "outputs": [],
   "source": [
    "L1 = [['Geeks', 'for', 'Geeks'], [\"Aswini\", 1994], 20 , 30 ]"
   ]
  },
  {
   "cell_type": "code",
   "execution_count": 8,
   "metadata": {},
   "outputs": [
    {
     "name": "stdout",
     "output_type": "stream",
     "text": [
      "[['Geeks', 'for', 'Geeks'], ['Aswini', 1994], 20, 30]\n"
     ]
    }
   ],
   "source": [
    "print(L1)"
   ]
  },
  {
   "cell_type": "code",
   "execution_count": 9,
   "metadata": {},
   "outputs": [
    {
     "name": "stdout",
     "output_type": "stream",
     "text": [
      "[]\n"
     ]
    }
   ],
   "source": [
    "L2 = []\n",
    "print(L2)"
   ]
  },
  {
   "cell_type": "code",
   "execution_count": 10,
   "metadata": {},
   "outputs": [
    {
     "name": "stdout",
     "output_type": "stream",
     "text": [
      "[2, 3, 4]\n"
     ]
    }
   ],
   "source": [
    "L2.append(2)\n",
    "L2.append(3)\n",
    "L2.append(4)\n",
    "print(L2)"
   ]
  },
  {
   "cell_type": "code",
   "execution_count": 13,
   "metadata": {},
   "outputs": [
    {
     "name": "stdout",
     "output_type": "stream",
     "text": [
      "[1, 2, 3]\n",
      "[1, 2, 3, (5, 6)]\n"
     ]
    }
   ],
   "source": [
    "L3 = []\n",
    "for i in range(1,4):\n",
    "    L3.append(i)\n",
    "print(L3)\n",
    "\n",
    "L3.append((5,6))\n",
    "print(L3)"
   ]
  },
  {
   "cell_type": "code",
   "execution_count": 14,
   "metadata": {},
   "outputs": [],
   "source": [
    "L4 = [\"g\", \"e\"]\n",
    "L3.append(L4)\n"
   ]
  },
  {
   "cell_type": "code",
   "execution_count": 16,
   "metadata": {},
   "outputs": [
    {
     "name": "stdout",
     "output_type": "stream",
     "text": [
      "[1, 2, 3, (5, 6), ['g', 'e']]\n"
     ]
    }
   ],
   "source": [
    "print(L3)"
   ]
  },
  {
   "cell_type": "code",
   "execution_count": 19,
   "metadata": {},
   "outputs": [
    {
     "name": "stdout",
     "output_type": "stream",
     "text": [
      "['geeks', 1, 2, 3, 'geeks', (5, 6), 'geeks', ['g', 'e']]\n"
     ]
    }
   ],
   "source": [
    "L3.insert(0, 'geeks')\n",
    "print(L3)"
   ]
  },
  {
   "cell_type": "code",
   "execution_count": 20,
   "metadata": {},
   "outputs": [
    {
     "name": "stdout",
     "output_type": "stream",
     "text": [
      "['geeks', 1, 2, 3, 'geeks', (5, 6), 'geeks', ['g', 'e'], 555, 999]\n"
     ]
    }
   ],
   "source": [
    "L3.extend([555, 999])\n",
    "print(L3)"
   ]
  },
  {
   "cell_type": "code",
   "execution_count": 21,
   "metadata": {},
   "outputs": [
    {
     "name": "stdout",
     "output_type": "stream",
     "text": [
      "[['Geeks', 'for', 'Geeks'], ['Aswini', 555, 999], 4990]\n"
     ]
    }
   ],
   "source": [
    "L4 = [['Geeks', 'for', 'Geeks'], ['Aswini', 555, 999], 4990]\n",
    "print(L4)"
   ]
  },
  {
   "cell_type": "code",
   "execution_count": 26,
   "metadata": {},
   "outputs": [
    {
     "name": "stdout",
     "output_type": "stream",
     "text": [
      "['Geeks', 'for', 'Geeks']\n",
      "Geeks\n",
      "for\n",
      "Geeks \n",
      "\n",
      "Aswini\n",
      "555\n",
      "999 \n",
      "\n",
      "4990\n"
     ]
    }
   ],
   "source": [
    "print(L4[0])\n",
    "print(L4[0][0])\n",
    "print(L4[0][1])\n",
    "print(L4[0][2],\"\\n\")\n",
    "\n",
    "print(L4[1][0])\n",
    "print(L4[1][1])\n",
    "print(L4[1][2],\"\\n\")\n",
    "\n",
    "print(L4[2])\n"
   ]
  },
  {
   "cell_type": "code",
   "execution_count": 43,
   "metadata": {},
   "outputs": [
    {
     "name": "stdout",
     "output_type": "stream",
     "text": [
      "[['Geeks', 'for', 'Geeks'], ['Aswini', 555, 999]]\n"
     ]
    }
   ],
   "source": [
    "print(L4)"
   ]
  },
  {
   "cell_type": "code",
   "execution_count": 42,
   "metadata": {},
   "outputs": [
    {
     "name": "stdout",
     "output_type": "stream",
     "text": [
      "[['Geeks', 'for', 'Geeks'], ['Aswini', 555, 999]]\n"
     ]
    }
   ],
   "source": [
    "\n",
    "L4.remove(4990)\n",
    "print(L4)"
   ]
  },
  {
   "cell_type": "code",
   "execution_count": 50,
   "metadata": {},
   "outputs": [
    {
     "name": "stdout",
     "output_type": "stream",
     "text": [
      "[1, 2, 3, 4, 5, 6, 7, 8, 9]\n",
      "[5, 6, 7, 8, 9]\n",
      "[5, 6, 7]\n",
      "[5, 7]\n"
     ]
    }
   ],
   "source": [
    "L5 = [1,2,3,4,5,6,7,8,9]\n",
    "print(L5)\n",
    "for i in range(1,5):\n",
    "    L5.remove(i)\n",
    "print(L5)\n",
    "L5.pop()\n",
    "L5.pop()\n",
    "print(L5)\n",
    "L5.pop(1)\n",
    "print(L5)\n"
   ]
  },
  {
   "cell_type": "code",
   "execution_count": 51,
   "metadata": {},
   "outputs": [
    {
     "name": "stdout",
     "output_type": "stream",
     "text": [
      "['G', 'E', 'E', 'K', 'S', 'F', 'O', 'R', 'G', 'E', 'E', 'K', 'S']\n"
     ]
    }
   ],
   "source": [
    "List = ['G','E','E','K','S','F','O','R','G','E','E','K','S']\n",
    "print(List)"
   ]
  },
  {
   "cell_type": "code",
   "execution_count": 52,
   "metadata": {},
   "outputs": [
    {
     "name": "stdout",
     "output_type": "stream",
     "text": [
      "['K', 'S', 'F', 'O', 'R']\n"
     ]
    }
   ],
   "source": [
    "SlicedList = List[3:8]\n",
    "print(SlicedList)"
   ]
  },
  {
   "cell_type": "code",
   "execution_count": 56,
   "metadata": {},
   "outputs": [
    {
     "name": "stdout",
     "output_type": "stream",
     "text": [
      "['G', 'E', 'E', 'K', 'S', 'F', 'O', 'R', 'G', 'E', 'E', 'K']\n"
     ]
    }
   ],
   "source": [
    "SlicedList1 = List[:-1]\n",
    "print(SlicedList1)"
   ]
  },
  {
   "cell_type": "code",
   "execution_count": 62,
   "metadata": {},
   "outputs": [
    {
     "name": "stdout",
     "output_type": "stream",
     "text": [
      "['F', 'O', 'R', 'G', 'E', 'E', 'K', 'S']\n",
      "['G', 'E', 'E', 'K', 'S', 'F', 'O', 'R', 'G', 'E', 'E', 'K', 'S']\n",
      "['S', 'E', 'G', 'O', 'S', 'E', 'G']\n"
     ]
    }
   ],
   "source": [
    "SlicedList2 = List[5:]\n",
    "print(SlicedList2)\n",
    "print(List[:])\n"
   ]
  },
  {
   "cell_type": "code",
   "execution_count": 71,
   "metadata": {},
   "outputs": [
    {
     "name": "stdout",
     "output_type": "stream",
     "text": [
      "['G', 'E', 'E', 'K', 'S', 'F', 'O', 'R', 'G', 'E', 'E', 'K', 'S']\n",
      "['G', 'E', 'S', 'O', 'G', 'E']\n"
     ]
    }
   ],
   "source": [
    "print(List)\n",
    "slicedReverse = List[0:-1:2]\n",
    "print(slicedReverse)"
   ]
  },
  {
   "cell_type": "code",
   "execution_count": 4,
   "metadata": {},
   "outputs": [
    {
     "name": "stdout",
     "output_type": "stream",
     "text": [
      "Return type of Obj1  <class 'enumerate'>\n",
      "Return type of l1  <class 'list'>\n",
      "[(3, 'geeks'), (4, 'for'), (5, 'geeks')]\n"
     ]
    }
   ],
   "source": [
    "l1 =[\"geeks\", \"for\", \"geeks\"]\n",
    "s1 = [\"Aswini\"]\n",
    "\n",
    "obj1 = enumerate(l1)\n",
    "obj2 = enumerate(s1)\n",
    "\n",
    "print(\"Return type of Obj1 \", type(obj1))\n",
    "print(\"Return type of l1 \", type(l1))\n",
    "\n",
    "print(list(enumerate(l1, 3)))\n"
   ]
  },
  {
   "cell_type": "code",
   "execution_count": 11,
   "metadata": {},
   "outputs": [
    {
     "name": "stdout",
     "output_type": "stream",
     "text": [
      "(100, 'learn')\n",
      "(101, 'Sleep')\n",
      "(102, 'learn')\n",
      "100 learn\n",
      "101 Sleep\n",
      "102 learn\n"
     ]
    }
   ],
   "source": [
    "l1 = [\"learn\" , \"Sleep\", \"learn\"]\n",
    "\n",
    "for ele in enumerate(l1, 100):\n",
    "    print (ele)\n",
    "    \n",
    "for count, el in enumerate(l1, 100):\n",
    "    print(count, el)"
   ]
  },
  {
   "cell_type": "code",
   "execution_count": 14,
   "metadata": {},
   "outputs": [
    {
     "name": "stdout",
     "output_type": "stream",
     "text": [
      "The filtered letters are\n",
      "e\n",
      "e\n",
      "a\n",
      "i\n",
      "i\n"
     ]
    }
   ],
   "source": [
    "#Fun\n",
    "\n",
    "def fun(variables):\n",
    "    letters = ['a', 'e','i','o','u']\n",
    "    \n",
    "    if variables in letters:\n",
    "        return True\n",
    "    else:\n",
    "        return False\n",
    "\n",
    "sequence = ['g','e','e','k','s', 'a','s',\"w\",\"i\", \"n\", \"i\", 'our', \"r\"]\n",
    "\n",
    "filtered = filter(fun,sequence)\n",
    "\n",
    "print('The filtered letters are')\n",
    "\n",
    "for eee in filtered :\n",
    "    print(eee)"
   ]
  },
  {
   "cell_type": "code",
   "execution_count": 15,
   "metadata": {},
   "outputs": [
    {
     "name": "stdout",
     "output_type": "stream",
     "text": [
      "First List [1, 3, 5]\n",
      "Second List [0, 2, 4, 6]\n"
     ]
    }
   ],
   "source": [
    "seq = [0,1,2,3,4,5,6]\n",
    "\n",
    "result = filter(lambda x: x%2 , seq)\n",
    "print(\"First List\", list(result))\n",
    "\n",
    "result1 = filter(lambda x: x%2 == 0, seq)\n",
    "print(\"Second List\", list(result1))"
   ]
  },
  {
   "cell_type": "code",
   "execution_count": 20,
   "metadata": {},
   "outputs": [
    {
     "name": "stdout",
     "output_type": "stream",
     "text": [
      "From g 125\n",
      "From cube 125\n"
     ]
    }
   ],
   "source": [
    "def cube(y):\n",
    "    return y*y*y\n",
    "\n",
    "g = lambda y : y*y*y\n",
    "\n",
    "print(\"From g\", g(5))\n",
    "\n",
    "print(\"From cube\", cube(5))\n",
    "    "
   ]
  },
  {
   "cell_type": "code",
   "execution_count": 30,
   "metadata": {},
   "outputs": [
    {
     "name": "stdout",
     "output_type": "stream",
     "text": [
      "[1, 3, 5, 9]\n",
      "[True, False, True, False, True, False, False, True]\n"
     ]
    }
   ],
   "source": [
    "li = [1,2,3,4,5,6,78,9,]\n",
    "\n",
    "finalList = list(filter(lambda x: x % 2 != 0, li))\n",
    "\n",
    "print(finalList)\n",
    "\n",
    "Nofilter = filter(lambda y : y % 2 !=0, li)\n",
    "\n",
    "print(list(Nofilter))"
   ]
  },
  {
   "cell_type": "code",
   "execution_count": 31,
   "metadata": {},
   "outputs": [
    {
     "name": "stdout",
     "output_type": "stream",
     "text": [
      "[0, 11, 22, 33, 44, 55, 66, 77, 88, 99]\n"
     ]
    }
   ],
   "source": [
    "li = [0,1,2,3,4,5,6,7,8,9]\n",
    "\n",
    "mapList = map(lambda x : x *11, li)\n",
    "\n",
    "print(list(mapList))"
   ]
  },
  {
   "cell_type": "code",
   "execution_count": 35,
   "metadata": {},
   "outputs": [
    {
     "name": "stdout",
     "output_type": "stream",
     "text": [
      "15\n"
     ]
    }
   ],
   "source": [
    "from functools import reduce\n",
    "\n",
    "li = [1,2,3,4,5]\n",
    "\n",
    "sum = reduce(lambda x , y : x+y , li)\n",
    "print((sum))"
   ]
  },
  {
   "cell_type": "code",
   "execution_count": 37,
   "metadata": {},
   "outputs": [
    {
     "name": "stdout",
     "output_type": "stream",
     "text": [
      "[65, 39, 221]\n"
     ]
    }
   ],
   "source": [
    "my_list = [12, 65, 54, 39, 102, 339, 221, 50, 70, ] \n",
    "\n",
    "result = filter(lambda x : x % 13 ==0, my_list)\n",
    "\n",
    "print(list(result))"
   ]
  },
  {
   "cell_type": "code",
   "execution_count": 38,
   "metadata": {},
   "outputs": [
    {
     "name": "stdout",
     "output_type": "stream",
     "text": [
      "['fof', 'offo', 'madam']\n"
     ]
    }
   ],
   "source": [
    "my_List = [\"geeks\", \"geek\", \"fof\", 'for', 'offo', \"practice\", 'madam']\n",
    "\n",
    "result = list(filter(lambda x : (x== \"\".join(reversed(x))), my_List))\n",
    "\n",
    "print(result)"
   ]
  },
  {
   "cell_type": "code",
   "execution_count": 42,
   "metadata": {},
   "outputs": [
    {
     "name": "stdout",
     "output_type": "stream",
     "text": [
      "['practice']\n"
     ]
    }
   ],
   "source": [
    "from collections import Counter\n",
    "\n",
    "my_list = [\"geeks\", \"geeg\", \"keegs\", \"practice\", \"aa\"] \n",
    "str  = \"racpceit\"\n",
    "\n",
    "result = list(filter(lambda x : (Counter(str) == Counter(x)), my_list))\n",
    "\n",
    "print(list(result))"
   ]
  },
  {
   "cell_type": "code",
   "execution_count": 44,
   "metadata": {},
   "outputs": [
    {
     "name": "stdout",
     "output_type": "stream",
     "text": [
      "[5, 55, 555, 5555, 55555]\n"
     ]
    }
   ],
   "source": [
    "def addition(n):\n",
    "    return n*5\n",
    "\n",
    "li=[1,11,111,1111,11111]\n",
    "result = list(map(addition, li ))\n",
    "print(result)"
   ]
  },
  {
   "cell_type": "code",
   "execution_count": 45,
   "metadata": {},
   "outputs": [
    {
     "name": "stdout",
     "output_type": "stream",
     "text": [
      "[9, 99, 999, 9999, 99999]\n"
     ]
    }
   ],
   "source": [
    "li = [1,11,111,1111,11111]\n",
    "result = list(map(lambda x : x*9, li))\n",
    "print(result)"
   ]
  },
  {
   "cell_type": "code",
   "execution_count": 46,
   "metadata": {},
   "outputs": [
    {
     "name": "stdout",
     "output_type": "stream",
     "text": [
      "[99, 99, 99]\n"
     ]
    }
   ],
   "source": [
    "number1 = [33, 57, 82]\n",
    "number2 = [66, 42, 17 ]\n",
    "\n",
    "result = list(map(lambda x, y : x + y , number1, number2))\n",
    "\n",
    "print(result)"
   ]
  },
  {
   "cell_type": "code",
   "execution_count": 49,
   "metadata": {},
   "outputs": [
    {
     "name": "stdout",
     "output_type": "stream",
     "text": [
      "[['s', 'a', 't'], ['b', 'a', 't'], ['m', 'a', 't'], ['c', 'a', 't']]\n"
     ]
    }
   ],
   "source": [
    "l =['sat', \"bat\", 'mat', \"cat\"]\n",
    "\n",
    "sep = map(list, l)\n",
    "\n",
    "print(list(sep))"
   ]
  },
  {
   "cell_type": "code",
   "execution_count": 51,
   "metadata": {},
   "outputs": [
    {
     "name": "stdout",
     "output_type": "stream",
     "text": [
      "GeeksforGeeks\n"
     ]
    }
   ],
   "source": [
    "def removeAll(input):\n",
    "    sepChar = [char for char in input if ord(char) in range(ord('a'), ord('z')+1, 1) or ord(char) in range(ord('A'), ord('Z')+1, 1)]\n",
    "    \n",
    "    return ''.join(sepChar)\n",
    "\n",
    "if __name__ == \"__main__\" :\n",
    "    input = \"\"\"\"$Gee*k;s..fo, r'Ge^eks?\"\"\"\n",
    "    print(removeAll(input))\n",
    "    "
   ]
  },
  {
   "cell_type": "code",
   "execution_count": 53,
   "metadata": {},
   "outputs": [
    {
     "name": "stdout",
     "output_type": "stream",
     "text": [
      "[0, 2, 4, 6, 8, 10]\n"
     ]
    }
   ],
   "source": [
    "list =[]\n",
    "\n",
    "for i in range(12):\n",
    "    if i%2 == 0 :\n",
    "        list.append(i)\n",
    "        \n",
    "print(list)"
   ]
  },
  {
   "cell_type": "code",
   "execution_count": 56,
   "metadata": {
    "scrolled": true
   },
   "outputs": [
    {
     "name": "stdout",
     "output_type": "stream",
     "text": [
      "[0, 2, 4, 6, 8, 10]\n"
     ]
    }
   ],
   "source": [
    "list = [i for i in range(12) if i%2 == 0]\n",
    "print(list)"
   ]
  },
  {
   "cell_type": "code",
   "execution_count": 61,
   "metadata": {},
   "outputs": [
    {
     "name": "stdout",
     "output_type": "stream",
     "text": [
      "<generator object <genexpr> at 0x0000000005171A40>\n",
      "0 2 4 6 8 10 "
     ]
    }
   ],
   "source": [
    "gen_exp = (i for i in range(11) if i%2 == 0)\n",
    "print(gen_exp)\n",
    "\n",
    "for i in gen_exp:\n",
    "    print(i, end= \" \")"
   ]
  },
  {
   "cell_type": "code",
   "execution_count": 63,
   "metadata": {},
   "outputs": [
    {
     "name": "stdout",
     "output_type": "stream",
     "text": [
      "Size of comprehension  87624\n",
      "Size of generator  88\n"
     ]
    }
   ],
   "source": [
    "from sys import getsizeof\n",
    "\n",
    "comp = [ i for i in range(10000)]\n",
    "gen  = (i for i in range(10000))\n",
    "print(\"Size of comprehension \", getsizeof(comp))\n",
    "print(\"Size of generator \", getsizeof(gen))"
   ]
  },
  {
   "cell_type": "code",
   "execution_count": 65,
   "metadata": {},
   "outputs": [
    {
     "name": "stdout",
     "output_type": "stream",
     "text": [
      "12.747090081033493\n"
     ]
    }
   ],
   "source": [
    "import timeit\n",
    "\n",
    "print(timeit.timeit('''list_Comp = [i for i in range(100) if i%2 == 0]''', number= 1000000))\n"
   ]
  },
  {
   "cell_type": "code",
   "execution_count": 68,
   "metadata": {},
   "outputs": [
    {
     "name": "stdout",
     "output_type": "stream",
     "text": [
      "0.9447798372683707\n"
     ]
    }
   ],
   "source": [
    "import timeit\n",
    "print(timeit.timeit('''gen_exp = (i for i in range(100) if i%2 == 0)''', number = 1000000))"
   ]
  },
  {
   "cell_type": "code",
   "execution_count": 71,
   "metadata": {},
   "outputs": [
    {
     "name": "stdout",
     "output_type": "stream",
     "text": [
      "(('geeks', 'for'),)\n",
      "((('geeks', 'for'),),)\n",
      "(((('geeks', 'for'),),),)\n",
      "((((('geeks', 'for'),),),),)\n",
      "(((((('geeks', 'for'),),),),),)\n"
     ]
    }
   ],
   "source": [
    "tuple1 = (\"geeks\", \"for\")\n",
    "\n",
    "for i in range(5):\n",
    "    tuple1 = (tuple1, )\n",
    "    print(tuple1)\n"
   ]
  },
  {
   "cell_type": "code",
   "execution_count": 72,
   "metadata": {},
   "outputs": [
    {
     "name": "stdout",
     "output_type": "stream",
     "text": [
      "('g', 'e', 'e', 'k', 's')\n"
     ]
    }
   ],
   "source": [
    "tuple1 = tuple(\"geeks\")\n",
    "print(tuple1)"
   ]
  },
  {
   "cell_type": "code",
   "execution_count": 73,
   "metadata": {},
   "outputs": [
    {
     "name": "stdout",
     "output_type": "stream",
     "text": [
      "('geeks', 'geeks', 'geeks')\n"
     ]
    }
   ],
   "source": [
    "tuple1 =(\"geeks\", ) * 3\n",
    "print(tuple1)"
   ]
  },
  {
   "cell_type": "code",
   "execution_count": 74,
   "metadata": {},
   "outputs": [
    {
     "name": "stdout",
     "output_type": "stream",
     "text": [
      "(1, 2, 3, 4, 'geeks', 'for', 'geeks')\n"
     ]
    }
   ],
   "source": [
    "tuple1 = (1,2,3,4)\n",
    "tuple2 = ('geeks', 'for', 'geeks')\n",
    "tuple3 = tuple1 + tuple2\n",
    "print(tuple3)"
   ]
  },
  {
   "cell_type": "code",
   "execution_count": 86,
   "metadata": {},
   "outputs": [
    {
     "name": "stdout",
     "output_type": "stream",
     "text": [
      "('g', 'e', 'e', 'k', 's', 'f', 'o', 'r', 'g', 'e', 'e', 'k', 's')\n",
      "('e', 'k', 's', 'f', 'o', 'r', 'g', 'e', 'e', 'k', 's')\n",
      "('s', 'k', 'e', 'e', 'g', 'r', 'o', 'f', 's', 'k', 'e', 'e', 'g')\n",
      "('s', 'f', 'o', 'r', 'g')\n"
     ]
    }
   ],
   "source": [
    "tuple1 = tuple(\"geeksforgeeks\")\n",
    "print(tuple1)\n",
    "\n",
    "print(tuple1[2:])\n",
    "print(tuple1[::-1])\n",
    "print(tuple1[4:9])"
   ]
  },
  {
   "cell_type": "code",
   "execution_count": null,
   "metadata": {},
   "outputs": [],
   "source": []
  },
  {
   "cell_type": "code",
   "execution_count": 87,
   "metadata": {},
   "outputs": [
    {
     "name": "stdout",
     "output_type": "stream",
     "text": [
      "('g', 'e', 'e', 'k', 's', 'f', 'o', 'r', 'g', 'e', 'e', 'k', 's')\n"
     ]
    }
   ],
   "source": [
    "print(tuple1)"
   ]
  },
  {
   "cell_type": "code",
   "execution_count": null,
   "metadata": {},
   "outputs": [],
   "source": []
  }
 ],
 "metadata": {
  "kernelspec": {
   "display_name": "Python 3",
   "language": "python",
   "name": "python3"
  },
  "language_info": {
   "codemirror_mode": {
    "name": "ipython",
    "version": 3
   },
   "file_extension": ".py",
   "mimetype": "text/x-python",
   "name": "python",
   "nbconvert_exporter": "python",
   "pygments_lexer": "ipython3",
   "version": "3.6.5"
  }
 },
 "nbformat": 4,
 "nbformat_minor": 2
}
