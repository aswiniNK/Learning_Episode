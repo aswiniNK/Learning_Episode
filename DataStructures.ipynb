{
 "cells": [
  {
   "cell_type": "code",
   "execution_count": 7,
   "metadata": {},
   "outputs": [
    {
     "name": "stdout",
     "output_type": "stream",
     "text": [
      "[1, 'aaa', 5.55, 999]\n",
      "[1, 'aaa', 5.55, 999, 30]\n",
      "[1, 'aaa', 5.55, 999]\n",
      "[1, 'aaa', 5.55]\n",
      "[1, 'aaa']\n"
     ]
    }
   ],
   "source": [
    "L = [1,'aaa', 5.55, 999]\n",
    "\n",
    "print(L)\n",
    "\n",
    "L.append(30)\n",
    "\n",
    "print(L)\n",
    "\n",
    "L.pop()\n",
    "\n",
    "print(L)\n",
    "L.pop()\n",
    "\n",
    "print(L)\n",
    "L.pop()\n",
    "\n",
    "print(L)"
   ]
  },
  {
   "cell_type": "code",
   "execution_count": 8,
   "metadata": {},
   "outputs": [],
   "source": [
    "t = (1,2, 'aaa', 4.555)"
   ]
  },
  {
   "cell_type": "code",
   "execution_count": 9,
   "metadata": {},
   "outputs": [
    {
     "data": {
      "text/plain": [
       "(1, 2, 'aaa', 4.555)"
      ]
     },
     "execution_count": 9,
     "metadata": {},
     "output_type": "execute_result"
    }
   ],
   "source": [
    "t\n"
   ]
  },
  {
   "cell_type": "code",
   "execution_count": 10,
   "metadata": {},
   "outputs": [
    {
     "name": "stdout",
     "output_type": "stream",
     "text": [
      "(1, 2, 'aaa', 4.555)\n"
     ]
    }
   ],
   "source": [
    "print(t)"
   ]
  },
  {
   "cell_type": "code",
   "execution_count": 11,
   "metadata": {},
   "outputs": [
    {
     "data": {
      "text/plain": [
       "'aaa'"
      ]
     },
     "execution_count": 11,
     "metadata": {},
     "output_type": "execute_result"
    }
   ],
   "source": [
    "t[2]"
   ]
  },
  {
   "cell_type": "code",
   "execution_count": 20,
   "metadata": {},
   "outputs": [
    {
     "name": "stdout",
     "output_type": "stream",
     "text": [
      "1 , 2 , aaa , 4.555 , "
     ]
    }
   ],
   "source": [
    "i=0\n",
    "while i<4 :\n",
    "    \n",
    "    print(t[i], end=\" , \")\n",
    "    i=i+1"
   ]
  },
  {
   "cell_type": "markdown",
   "metadata": {},
   "source": [
    "s = \"Hello World\"\n",
    "for i in s:\n",
    "    print(i, end=\"\")"
   ]
  },
  {
   "cell_type": "code",
   "execution_count": 31,
   "metadata": {},
   "outputs": [
    {
     "name": "stdout",
     "output_type": "stream",
     "text": [
      "1 2 3 4 5 6 7 8 9 "
     ]
    }
   ],
   "source": [
    "L = [1,2,3,4,5,6,7,8,9]\n",
    "for i in L :\n",
    "    print (i, end=' ')\n",
    "    "
   ]
  },
  {
   "cell_type": "code",
   "execution_count": 34,
   "metadata": {},
   "outputs": [
    {
     "name": "stdout",
     "output_type": "stream",
     "text": [
      "3\n",
      "4\n",
      "5\n",
      "6\n",
      "7\n",
      "8\n",
      "9\n"
     ]
    }
   ],
   "source": [
    "for i in range (3, 10):\n",
    "    print (i)"
   ]
  },
  {
   "cell_type": "markdown",
   "metadata": {},
   "source": [
    "# Python Strings"
   ]
  },
  {
   "cell_type": "code",
   "execution_count": 40,
   "metadata": {},
   "outputs": [
    {
     "name": "stdout",
     "output_type": "stream",
     "text": [
      "Double quoted strings\n",
      "Welcome' to the Change\n"
     ]
    }
   ],
   "source": [
    "string1 = \"Welcome' to the Change\"\n",
    "print(\"Double quoted strings\")\n",
    "print(string1)"
   ]
  },
  {
   "cell_type": "code",
   "execution_count": 39,
   "metadata": {},
   "outputs": [
    {
     "name": "stdout",
     "output_type": "stream",
     "text": [
      "Single quoted string\n",
      "Here comes success in everything\n"
     ]
    }
   ],
   "source": [
    "String2 = 'Here comes success in everything'\n",
    "print('Single quoted string')\n",
    "print(String2)\n",
    "\n"
   ]
  },
  {
   "cell_type": "code",
   "execution_count": 43,
   "metadata": {},
   "outputs": [
    {
     "name": "stdout",
     "output_type": "stream",
     "text": [
      "Triple quotes\n",
      " Helloooo \n",
      " Hi There I'am born to win \n"
     ]
    }
   ],
   "source": [
    "String3 = \"\"\" Hi There I'am born to win \"\"\"\n",
    "print(\"\"\"Triple quotes\"\"\")\n",
    "print(''' Helloooo ''')\n",
    "print(String3)"
   ]
  },
  {
   "cell_type": "code",
   "execution_count": 46,
   "metadata": {},
   "outputs": [
    {
     "name": "stdout",
     "output_type": "stream",
     "text": [
      "Multi Line strings\n",
      "\n",
      "Think\n",
      "    positive\n",
      "    Everything is on the way\n",
      "\n"
     ]
    }
   ],
   "source": [
    "String4 = '''\n",
    "Think\n",
    "    positive\n",
    "    Everything is on the way\n",
    "'''\n",
    "print(\"Multi Line strings\")\n",
    "print(String4)"
   ]
  },
  {
   "cell_type": "code",
   "execution_count": 48,
   "metadata": {},
   "outputs": [
    {
     "name": "stdout",
     "output_type": "stream",
     "text": [
      "Welcome' to the Change\n"
     ]
    }
   ],
   "source": [
    "print(string1)\n"
   ]
  },
  {
   "cell_type": "code",
   "execution_count": 49,
   "metadata": {},
   "outputs": [],
   "source": [
    "del(string1)"
   ]
  },
  {
   "cell_type": "code",
   "execution_count": 50,
   "metadata": {},
   "outputs": [
    {
     "ename": "NameError",
     "evalue": "name 'string1' is not defined",
     "output_type": "error",
     "traceback": [
      "\u001b[1;31m---------------------------------------------------------------------------\u001b[0m",
      "\u001b[1;31mNameError\u001b[0m                                 Traceback (most recent call last)",
      "\u001b[1;32m<ipython-input-50-4b88b23584eb>\u001b[0m in \u001b[0;36m<module>\u001b[1;34m()\u001b[0m\n\u001b[1;32m----> 1\u001b[1;33m \u001b[0mstring1\u001b[0m\u001b[1;33m\u001b[0m\u001b[0m\n\u001b[0m",
      "\u001b[1;31mNameError\u001b[0m: name 'string1' is not defined"
     ]
    }
   ],
   "source": [
    "string1"
   ]
  },
  {
   "cell_type": "code",
   "execution_count": 51,
   "metadata": {},
   "outputs": [
    {
     "data": {
      "text/plain": [
       "'\\nThink\\n    positive\\n    Everything is on the way\\n'"
      ]
     },
     "execution_count": 51,
     "metadata": {},
     "output_type": "execute_result"
    }
   ],
   "source": [
    "String4"
   ]
  },
  {
   "cell_type": "code",
   "execution_count": 52,
   "metadata": {},
   "outputs": [
    {
     "ename": "TypeError",
     "evalue": "'str' object doesn't support item deletion",
     "output_type": "error",
     "traceback": [
      "\u001b[1;31m---------------------------------------------------------------------------\u001b[0m",
      "\u001b[1;31mTypeError\u001b[0m                                 Traceback (most recent call last)",
      "\u001b[1;32m<ipython-input-52-b51f15aa7fdf>\u001b[0m in \u001b[0;36m<module>\u001b[1;34m()\u001b[0m\n\u001b[1;32m----> 1\u001b[1;33m \u001b[1;32mdel\u001b[0m\u001b[1;33m(\u001b[0m\u001b[0mString4\u001b[0m\u001b[1;33m[\u001b[0m\u001b[1;36m3\u001b[0m\u001b[1;33m]\u001b[0m\u001b[1;33m)\u001b[0m\u001b[1;33m\u001b[0m\u001b[0m\n\u001b[0m",
      "\u001b[1;31mTypeError\u001b[0m: 'str' object doesn't support item deletion"
     ]
    }
   ],
   "source": [
    "del(String4[3])"
   ]
  },
  {
   "cell_type": "code",
   "execution_count": 55,
   "metadata": {},
   "outputs": [
    {
     "ename": "SyntaxError",
     "evalue": "invalid syntax (<ipython-input-55-b30262cbbd6f>, line 1)",
     "output_type": "error",
     "traceback": [
      "\u001b[1;36m  File \u001b[1;32m\"<ipython-input-55-b30262cbbd6f>\"\u001b[1;36m, line \u001b[1;32m1\u001b[0m\n\u001b[1;33m    string5 = ''' I\" ''' ''''''m a Geek '''\u001b[0m\n\u001b[1;37m                               ^\u001b[0m\n\u001b[1;31mSyntaxError\u001b[0m\u001b[1;31m:\u001b[0m invalid syntax\n"
     ]
    }
   ],
   "source": [
    "string5 = ''' I\" m a Geek '''\n",
    "print(\"Initial string with tripple quotes \")\n",
    "print(string5)"
   ]
  },
  {
   "cell_type": "code",
   "execution_count": 56,
   "metadata": {},
   "outputs": [],
   "source": [
    "String6 = 'I \\'m a \"Geek\" '"
   ]
  },
  {
   "cell_type": "code",
   "execution_count": 57,
   "metadata": {},
   "outputs": [
    {
     "name": "stdout",
     "output_type": "stream",
     "text": [
      "I'm a \"Geek\" \n"
     ]
    }
   ],
   "source": [
    "print(String6)"
   ]
  },
  {
   "cell_type": "code",
   "execution_count": 58,
   "metadata": {},
   "outputs": [
    {
     "name": "stdout",
     "output_type": "stream",
     "text": [
      " Helloo, \"ASH\" \n"
     ]
    }
   ],
   "source": [
    "String7 = \" Helloo, \\\"ASH\\\" \"\n",
    "print(String7)"
   ]
  },
  {
   "cell_type": "code",
   "execution_count": 60,
   "metadata": {},
   "outputs": [
    {
     "name": "stdout",
     "output_type": "stream",
     "text": [
      "http://localhost:8888/notebooks/Untitled%20Folder/DataStructures.ipynb\n"
     ]
    }
   ],
   "source": [
    "print(\"http://localhost:8888/notebooks/Untitled%20Folder/DataStructures.ipynb\")"
   ]
  },
  {
   "cell_type": "code",
   "execution_count": 61,
   "metadata": {},
   "outputs": [],
   "source": [
    "String8 = \"http://localhost:8888/notebooks/Untitled%20Folder/DataStructures.ipynb\""
   ]
  },
  {
   "cell_type": "code",
   "execution_count": 62,
   "metadata": {},
   "outputs": [
    {
     "name": "stdout",
     "output_type": "stream",
     "text": [
      "http://localhost:8888/notebooks/Untitled%20Folder/DataStructures.ipynb\n"
     ]
    }
   ],
   "source": [
    "print(String8)"
   ]
  },
  {
   "cell_type": "code",
   "execution_count": 63,
   "metadata": {},
   "outputs": [],
   "source": [
    "String9 = \"http:\\\\localhost:8888\\\\notebooks\\\\Untitled%20Folder\\\\DataStructures.ipynb\""
   ]
  },
  {
   "cell_type": "code",
   "execution_count": 64,
   "metadata": {},
   "outputs": [
    {
     "name": "stdout",
     "output_type": "stream",
     "text": [
      "http:\\localhost:8888\\notebooks\\Untitled%20Folder\\DataStructures.ipynb\n"
     ]
    }
   ],
   "source": [
    "print(String9)"
   ]
  },
  {
   "cell_type": "code",
   "execution_count": 67,
   "metadata": {},
   "outputs": [
    {
     "name": "stdout",
     "output_type": "stream",
     "text": [
      "This is Geeks  in HEX\n"
     ]
    }
   ],
   "source": [
    "String10 = \"This is \\x47\\x65\\x65\\x6b\\x73  in \\x48\\x45\\x58\"\n",
    "print(String10)"
   ]
  },
  {
   "cell_type": "code",
   "execution_count": 68,
   "metadata": {},
   "outputs": [
    {
     "name": "stdout",
     "output_type": "stream",
     "text": [
      "This is \\x47\\x65\\x65\\x6b\\x73 in \\x48\\x45\\x58\n"
     ]
    }
   ],
   "source": [
    "String11 = r\"This is \\x47\\x65\\x65\\x6b\\x73 in \\x48\\x45\\x58\"\n",
    "print(String11)"
   ]
  },
  {
   "cell_type": "code",
   "execution_count": 73,
   "metadata": {},
   "outputs": [
    {
     "name": "stdout",
     "output_type": "stream",
     "text": [
      "GeeksforGeeks\n"
     ]
    }
   ],
   "source": [
    "String1 = \"{}{}{}\". format('Geeks','for', 'Geeks' )\n",
    "print(String1)"
   ]
  },
  {
   "cell_type": "code",
   "execution_count": 75,
   "metadata": {},
   "outputs": [
    {
     "name": "stdout",
     "output_type": "stream",
     "text": [
      "GeeksisBest\n"
     ]
    }
   ],
   "source": [
    "String2 = \"{0}{1}{2}\".format(\"Geeks\", \"is\", \"Best\")\n",
    "print(String2)"
   ]
  },
  {
   "cell_type": "code",
   "execution_count": 76,
   "metadata": {},
   "outputs": [
    {
     "name": "stdout",
     "output_type": "stream",
     "text": [
      "HelloWelcomeAswini\n"
     ]
    }
   ],
   "source": [
    "String3 = \"{f}{g}{h}\".format(f=\"Hello\", g=\"Welcome\", h=\"Aswini\")\n",
    "print(String3)"
   ]
  },
  {
   "cell_type": "code",
   "execution_count": 84,
   "metadata": {},
   "outputs": [
    {
     "name": "stdout",
     "output_type": "stream",
     "text": [
      "10000\n"
     ]
    }
   ],
   "source": [
    "String4 = \"{0:b}\".format(16)\n",
    "print(String4)"
   ]
  },
  {
   "cell_type": "code",
   "execution_count": 88,
   "metadata": {},
   "outputs": [
    {
     "name": "stdout",
     "output_type": "stream",
     "text": [
      "5.559990e+02\n"
     ]
    }
   ],
   "source": [
    "String5 = \"{0:e}\".format(555.999)\n",
    "print(String5)"
   ]
  },
  {
   "cell_type": "code",
   "execution_count": 93,
   "metadata": {},
   "outputs": [
    {
     "name": "stdout",
     "output_type": "stream",
     "text": [
      "5.333\n"
     ]
    }
   ],
   "source": [
    "String6 = \"{0:.3f}\".format(16/3)\n",
    "print(String6)"
   ]
  },
  {
   "cell_type": "code",
   "execution_count": 101,
   "metadata": {},
   "outputs": [
    {
     "name": "stdout",
     "output_type": "stream",
     "text": [
      "     Aswini in Geeks\n"
     ]
    }
   ],
   "source": [
    "String7 = \" {:>10} {:^2} {:<2}\".format(\"Aswini\", \"in\", \"Geeks\")\n",
    "print(String7)"
   ]
  },
  {
   "cell_type": "code",
   "execution_count": 107,
   "metadata": {},
   "outputs": [],
   "source": [
    "Integer = 12.3456789\n",
    "#print('Formating in 3.2f ' %Integer)"
   ]
  },
  {
   "cell_type": "code",
   "execution_count": 110,
   "metadata": {},
   "outputs": [
    {
     "name": "stdout",
     "output_type": "stream",
     "text": [
      "True\n"
     ]
    }
   ],
   "source": [
    "String8 = \"1234\"\n",
    "print(String8.isdecimal())"
   ]
  },
  {
   "cell_type": "code",
   "execution_count": 112,
   "metadata": {},
   "outputs": [
    {
     "name": "stdout",
     "output_type": "stream",
     "text": [
      "abcdefghijklmnopqrstuvwxyzABCDEFGHIJKLMNOPQRSTUVWXYZ\n"
     ]
    }
   ],
   "source": [
    "import string\n",
    "\n",
    "String1 = string.ascii_letters\n",
    "print(String1)"
   ]
  },
  {
   "cell_type": "code",
   "execution_count": 121,
   "metadata": {},
   "outputs": [
    {
     "name": "stdout",
     "output_type": "stream",
     "text": [
      "GeeksForGeeks --> True\n",
      "5555999Lucky number --> False\n",
      "Geeks_For_Geeks --> False\n"
     ]
    }
   ],
   "source": [
    "import string\n",
    "\n",
    "def check(value):\n",
    "    for letter in value:\n",
    "        \n",
    "        if letter not in string.ascii_letters :\n",
    "            return False\n",
    "    return True\n",
    "\n",
    "input1 = \"GeeksForGeeks\"\n",
    "print(input1, \"-->\", check(input1))\n",
    "\n",
    "input2 = \"5555999Lucky number\"\n",
    "print(input2, \"-->\", check(input2))\n",
    "\n",
    "input3 = \"Geeks_For_Geeks\"\n",
    "print(input3, \"-->\", check(input3))"
   ]
  },
  {
   "cell_type": "code",
   "execution_count": 123,
   "metadata": {},
   "outputs": [
    {
     "name": "stdout",
     "output_type": "stream",
     "text": [
      "9KwlFOlR2w\n"
     ]
    }
   ],
   "source": [
    "import random\n",
    "import string\n",
    "\n",
    "def rand_Pass(size):\n",
    "    generatePass = ''.join([random.choice(string.ascii_letters + string.digits) \n",
    "                           for n in range(size)])\n",
    "    return generatePass\n",
    "password = rand_Pass(10)\n",
    "print(password)"
   ]
  },
  {
   "cell_type": "code",
   "execution_count": 128,
   "metadata": {},
   "outputs": [
    {
     "name": "stdout",
     "output_type": "stream",
     "text": [
      "1eeGsseeee\n"
     ]
    }
   ],
   "source": [
    "import random\n",
    "import string\n",
    "\n",
    "def ranPass(size, scope = string.ascii_letters + string.digits):\n",
    "    \n",
    "    generatePass = ''.join([random.choice(scope) \n",
    "                           for n in range (size)])\n",
    "    \n",
    "    return generatePass\n",
    "\n",
    "print(ranPass(10, \"Geeks10Geeks\"))"
   ]
  },
  {
   "cell_type": "code",
   "execution_count": 131,
   "metadata": {},
   "outputs": [
    {
     "name": "stdout",
     "output_type": "stream",
     "text": [
      "abcdefghijklmnopqrstuvwxyzABCDEFGHIJKLMNOPQRSTUVWXYZ\n",
      "abcdefghijklmnopqrstuvwxyz\n"
     ]
    }
   ],
   "source": [
    "import string\n",
    "\n",
    "print(string.ascii_letters)\n",
    "print(string.ascii_lowercase)"
   ]
  },
  {
   "cell_type": "code",
   "execution_count": 132,
   "metadata": {},
   "outputs": [
    {
     "name": "stdout",
     "output_type": "stream",
     "text": [
      "ABCDEFGHIJKLMNOPQRSTUVWXYZ\n"
     ]
    }
   ],
   "source": [
    "import string\n",
    "print(string.ascii_uppercase)"
   ]
  },
  {
   "cell_type": "code",
   "execution_count": 133,
   "metadata": {},
   "outputs": [
    {
     "name": "stdout",
     "output_type": "stream",
     "text": [
      "0123456789\n"
     ]
    }
   ],
   "source": [
    "import string\n",
    "\n",
    "print(string.digits)"
   ]
  },
  {
   "cell_type": "code",
   "execution_count": 135,
   "metadata": {},
   "outputs": [
    {
     "name": "stdout",
     "output_type": "stream",
     "text": [
      "0123456789abcdefABCDEF\n"
     ]
    }
   ],
   "source": [
    "#import string\n",
    "print(string.hexdigits)"
   ]
  },
  {
   "cell_type": "code",
   "execution_count": 142,
   "metadata": {},
   "outputs": [
    {
     "name": "stdout",
     "output_type": "stream",
     "text": [
      "True\n",
      "False\n",
      "True\n"
     ]
    }
   ],
   "source": [
    "aaa = \"Geeks for Geeks.\"\n",
    "print(aaa.endswith(\"forGeeks.\"))\n",
    "print(aaa.endswith(\"forGeeks\"))\n",
    "print(aaa.endswith(\"GeeksforGeeks.\"))\n"
   ]
  },
  {
   "cell_type": "code",
   "execution_count": 144,
   "metadata": {},
   "outputs": [
    {
     "name": "stdout",
     "output_type": "stream",
     "text": [
      "True\n",
      "True\n"
     ]
    }
   ],
   "source": [
    "bbb = \"geeks for geeks\"\n",
    "print(bbb.endswith(\"geeks\", 10))\n",
    "print(bbb.endswith(\"for\", 3, 9))"
   ]
  },
  {
   "cell_type": "code",
   "execution_count": null,
   "metadata": {},
   "outputs": [],
   "source": []
  }
 ],
 "metadata": {
  "kernelspec": {
   "display_name": "Python 3",
   "language": "python",
   "name": "python3"
  },
  "language_info": {
   "codemirror_mode": {
    "name": "ipython",
    "version": 3
   },
   "file_extension": ".py",
   "mimetype": "text/x-python",
   "name": "python",
   "nbconvert_exporter": "python",
   "pygments_lexer": "ipython3",
   "version": "3.6.5"
  }
 },
 "nbformat": 4,
 "nbformat_minor": 2
}
